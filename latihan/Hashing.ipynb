{
 "cells": [
  {
   "cell_type": "code",
   "execution_count": 5,
   "id": "1553ff05",
   "metadata": {},
   "outputs": [],
   "source": [
    "def mod(number, cellNumber):\n",
    "    return number % cellNumber"
   ]
  },
  {
   "cell_type": "code",
   "execution_count": 6,
   "id": "000cb970",
   "metadata": {},
   "outputs": [
    {
     "name": "stdout",
     "output_type": "stream",
     "text": [
      "16\n"
     ]
    }
   ],
   "source": [
    "print(mod(400, 24))"
   ]
  },
  {
   "cell_type": "code",
   "execution_count": 15,
   "id": "6e716f6d",
   "metadata": {},
   "outputs": [],
   "source": [
    "def modASCII(string, cellNumber):\n",
    "    total = 0\n",
    "    for i in string:\n",
    "        total += ord(i)\n",
    "    return total % cellNumber"
   ]
  },
  {
   "cell_type": "code",
   "execution_count": 16,
   "id": "7ab7c9d2",
   "metadata": {},
   "outputs": [
    {
     "name": "stdout",
     "output_type": "stream",
     "text": [
      "6\n"
     ]
    }
   ],
   "source": [
    "print(modASCII(\"ABC\", 24))"
   ]
  },
  {
   "cell_type": "code",
   "execution_count": null,
   "id": "2a7989ba",
   "metadata": {},
   "outputs": [],
   "source": []
  }
 ],
 "metadata": {
  "kernelspec": {
   "display_name": "Python 3 (ipykernel)",
   "language": "python",
   "name": "python3"
  },
  "language_info": {
   "codemirror_mode": {
    "name": "ipython",
    "version": 3
   },
   "file_extension": ".py",
   "mimetype": "text/x-python",
   "name": "python",
   "nbconvert_exporter": "python",
   "pygments_lexer": "ipython3",
   "version": "3.9.12"
  }
 },
 "nbformat": 4,
 "nbformat_minor": 5
}
