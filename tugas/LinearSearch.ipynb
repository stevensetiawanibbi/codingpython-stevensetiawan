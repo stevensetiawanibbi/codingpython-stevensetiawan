{
 "cells": [
  {
   "cell_type": "code",
   "execution_count": 1,
   "id": "b07ce521",
   "metadata": {},
   "outputs": [],
   "source": [
    "# Searching algorithms - Linear Search"
   ]
  },
  {
   "cell_type": "code",
   "execution_count": 4,
   "id": "22fe90d1",
   "metadata": {},
   "outputs": [],
   "source": [
    "def linearSearch(array, value):\n",
    "    for i in range(len(array)):\n",
    "        if array[i] == value:\n",
    "            return i\n",
    "    return -1"
   ]
  },
  {
   "cell_type": "code",
   "execution_count": 5,
   "id": "0492ff68",
   "metadata": {},
   "outputs": [
    {
     "name": "stdout",
     "output_type": "stream",
     "text": [
      "4\n"
     ]
    }
   ],
   "source": [
    "print(linearSearch([20,40,30,50,90], 90))"
   ]
  },
  {
   "cell_type": "code",
   "execution_count": null,
   "id": "b8f14f31",
   "metadata": {},
   "outputs": [],
   "source": []
  }
 ],
 "metadata": {
  "kernelspec": {
   "display_name": "Python 3 (ipykernel)",
   "language": "python",
   "name": "python3"
  },
  "language_info": {
   "codemirror_mode": {
    "name": "ipython",
    "version": 3
   },
   "file_extension": ".py",
   "mimetype": "text/x-python",
   "name": "python",
   "nbconvert_exporter": "python",
   "pygments_lexer": "ipython3",
   "version": "3.10.9"
  }
 },
 "nbformat": 4,
 "nbformat_minor": 5
}
