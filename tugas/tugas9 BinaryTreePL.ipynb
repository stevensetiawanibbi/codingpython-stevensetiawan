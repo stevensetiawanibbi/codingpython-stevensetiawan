{
 "cells": [
  {
   "cell_type": "code",
   "execution_count": 1,
   "id": "0ed76b97",
   "metadata": {},
   "outputs": [],
   "source": [
    "class BinaryTree:\n",
    "    def __init__(self, size):\n",
    "        self.customList = size * [None]\n",
    "        self.lastUsedIndex = 0\n",
    "        self.maxSize = size\n",
    "    \n",
    "    def insertNode(self, value):\n",
    "        if self.lastUsedIndex + 1 == self.maxSize:\n",
    "            return \"The Binary Tree is full\"\n",
    "        self.customList[self.lastUsedIndex+1] = value\n",
    "        self.lastUsedIndex += 1\n",
    "        return \"The value has been successfully inserted\"\n",
    "\n",
    "    def searchNode(self, nodeValue):\n",
    "        for i in range(len(self.customList)):\n",
    "            if self.customList[i] == nodeValue:\n",
    "                return \"Success\"\n",
    "        return \"Not found\"\n",
    "    \n",
    "    def preOrderTraversal(self, index):\n",
    "        if index > self.lastUsedIndex:\n",
    "            return\n",
    "        print(self.customList[index])\n",
    "        self.preOrderTraversal(index*2)\n",
    "        self.preOrderTraversal(index*2 + 1)\n",
    "\n",
    "    def inOrderTraversal(self, index):\n",
    "        if index > self.lastUsedIndex:\n",
    "            return\n",
    "        self.inOrderTraversal(index*2)\n",
    "        print(self.customList[index])\n",
    "        self.inOrderTraversal(index*2+1)\n",
    "    \n",
    "    def postOrderTraversal(self, index):\n",
    "        if index > self.lastUsedIndex:\n",
    "            return\n",
    "        self.postOrderTraversal(index*2)\n",
    "        self.postOrderTraversal(index*2+1)\n",
    "        print(self.customList[index])\n",
    "    \n",
    "    def levelOrderTraversal(self, index):\n",
    "        for i in range(index, self.lastUsedIndex+1):\n",
    "            print(self.customList[i])\n",
    "    \n",
    "    def deleteNode(self, value):\n",
    "        if self.lastUsedIndex == 0:\n",
    "            return \"There is not any node to delete\"\n",
    "        for i in range(1, self.lastUsedIndex+1):\n",
    "            if self.customList[i] == value:\n",
    "                self.customList[i] = self.customList[self.lastUsedIndex]\n",
    "                self.customList[self.lastUsedIndex] = None\n",
    "                self.lastUsedIndex -= 1\n",
    "                return \"The node has been successfully deleted\"\n",
    "    \n",
    "    def deleteBT(self):\n",
    "       self.customList = None\n",
    "       return \"The BT has been successfully deleted\""
   ]
  },
  {
   "cell_type": "code",
   "execution_count": 2,
   "id": "adce187b",
   "metadata": {},
   "outputs": [
    {
     "data": {
      "text/plain": [
       "'The value has been successfully inserted'"
      ]
     },
     "execution_count": 2,
     "metadata": {},
     "output_type": "execute_result"
    }
   ],
   "source": [
    "newBT = BinaryTree(8)\n",
    "newBT.insertNode(\"Drinks\")\n",
    "newBT.insertNode(\"Hot\")\n",
    "newBT.insertNode(\"Cold\")\n",
    "newBT.insertNode(\"Tea\")\n",
    "newBT.insertNode(\"Coffee\")"
   ]
  },
  {
   "cell_type": "code",
   "execution_count": 3,
   "id": "1602013b",
   "metadata": {},
   "outputs": [
    {
     "name": "stdout",
     "output_type": "stream",
     "text": [
      "Drinks\n",
      "Hot\n",
      "Cold\n",
      "Tea\n",
      "Coffee\n"
     ]
    }
   ],
   "source": [
    "newBT.levelOrderTraversal(1)"
   ]
  },
  {
   "cell_type": "code",
   "execution_count": 4,
   "id": "df4f2c79",
   "metadata": {},
   "outputs": [
    {
     "name": "stdout",
     "output_type": "stream",
     "text": [
      "The BT has been successfully deleted\n"
     ]
    }
   ],
   "source": [
    "print(newBT.deleteBT())"
   ]
  },
  {
   "cell_type": "code",
   "execution_count": null,
   "id": "1f9d7dfb",
   "metadata": {},
   "outputs": [],
   "source": []
  }
 ],
 "metadata": {
  "kernelspec": {
   "display_name": "Python 3 (ipykernel)",
   "language": "python",
   "name": "python3"
  },
  "language_info": {
   "codemirror_mode": {
    "name": "ipython",
    "version": 3
   },
   "file_extension": ".py",
   "mimetype": "text/x-python",
   "name": "python",
   "nbconvert_exporter": "python",
   "pygments_lexer": "ipython3",
   "version": "3.10.9"
  }
 },
 "nbformat": 4,
 "nbformat_minor": 5
}
