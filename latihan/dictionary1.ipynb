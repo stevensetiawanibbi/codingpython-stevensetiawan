{
 "cells": [
  {
   "cell_type": "markdown",
   "id": "aac0c334",
   "metadata": {},
   "source": [
    "# update/add an element to the dictionary"
   ]
  },
  {
   "cell_type": "code",
   "execution_count": 1,
   "id": "c5da01bf",
   "metadata": {},
   "outputs": [
    {
     "name": "stdout",
     "output_type": "stream",
     "text": [
      "{'name': 'Edy', 'age': 26, 'address': 'London'}\n"
     ]
    }
   ],
   "source": [
    "myDict = {'name':'Edy', 'age': 26}\n",
    "myDict['address'] = 'London'\n",
    "print(myDict)"
   ]
  },
  {
   "cell_type": "code",
   "execution_count": 3,
   "id": "867e959d",
   "metadata": {},
   "outputs": [
    {
     "name": "stdout",
     "output_type": "stream",
     "text": [
      "{'name': 'Edy', 'age': 27, 'address': 'London'}\n"
     ]
    }
   ],
   "source": [
    "myDict['age'] = 27\n",
    "print(myDict)"
   ]
  },
  {
   "cell_type": "code",
   "execution_count": 4,
   "id": "03eb200e",
   "metadata": {},
   "outputs": [
    {
     "name": "stdout",
     "output_type": "stream",
     "text": [
      "name Edy\n",
      "age 27\n",
      "address London\n"
     ]
    }
   ],
   "source": [
    "# raverse through a dictionary\n",
    "def traverseDict(dict):\n",
    "    for key in dict:\n",
    "        print(key, dict[key])\n",
    "traverseDict(myDict)"
   ]
  },
  {
   "cell_type": "code",
   "execution_count": 5,
   "id": "4a513aed",
   "metadata": {},
   "outputs": [
    {
     "name": "stdout",
     "output_type": "stream",
     "text": [
      "('age', 27)\n"
     ]
    }
   ],
   "source": [
    "# searching a dictionary\n",
    "def searchDict(dict, value):\n",
    "    for key in dict:\n",
    "        if dict[key] == value:\n",
    "            return key, value\n",
    "    return 'The value is not exist'\n",
    "print(searchDict(myDict, 27))"
   ]
  },
  {
   "cell_type": "code",
   "execution_count": 6,
   "id": "7e214bbd",
   "metadata": {},
   "outputs": [
    {
     "data": {
      "text/plain": [
       "'Edy'"
      ]
     },
     "execution_count": 6,
     "metadata": {},
     "output_type": "execute_result"
    }
   ],
   "source": [
    "# delete or remove dictionary\n",
    "myDict.pop('name')"
   ]
  },
  {
   "cell_type": "code",
   "execution_count": 7,
   "id": "d5ccf9d9",
   "metadata": {},
   "outputs": [
    {
     "name": "stdout",
     "output_type": "stream",
     "text": [
      "{'age': 27, 'address': 'London'}\n"
     ]
    }
   ],
   "source": [
    "print(myDict)"
   ]
  },
  {
   "cell_type": "code",
   "execution_count": 8,
   "id": "a9974583",
   "metadata": {},
   "outputs": [
    {
     "name": "stdout",
     "output_type": "stream",
     "text": [
      "['aas', 'udd', 'sseo', 'werwi', 'eooooa']\n"
     ]
    }
   ],
   "source": [
    "# sorted method\n",
    "myDict = {'eooooa':1, 'aas':2, 'udd':3, 'sseo':4, 'werwi':5}\n",
    "\n",
    "print(sorted(myDict, key=len))"
   ]
  },
  {
   "cell_type": "code",
   "execution_count": 9,
   "id": "2918d494",
   "metadata": {},
   "outputs": [
    {
     "name": "stdout",
     "output_type": "stream",
     "text": [
      "{'eooooa': 1, 'aas': 2, 'udd': 3, 'sseo': 4, 'werwi': 5}\n"
     ]
    }
   ],
   "source": [
    "print(myDict)"
   ]
  },
  {
   "cell_type": "code",
   "execution_count": 10,
   "id": "c3411e45",
   "metadata": {},
   "outputs": [],
   "source": [
    "myDict.clear()"
   ]
  },
  {
   "cell_type": "code",
   "execution_count": 11,
   "id": "cf92d476",
   "metadata": {},
   "outputs": [
    {
     "name": "stdout",
     "output_type": "stream",
     "text": [
      "{}\n"
     ]
    }
   ],
   "source": [
    "print(myDict)"
   ]
  },
  {
   "cell_type": "code",
   "execution_count": 12,
   "id": "8fb00699",
   "metadata": {},
   "outputs": [],
   "source": [
    "myDict = {'name': 'Edy', 'age': 26}"
   ]
  },
  {
   "cell_type": "code",
   "execution_count": 13,
   "id": "ab0bba0c",
   "metadata": {},
   "outputs": [
    {
     "name": "stdout",
     "output_type": "stream",
     "text": [
      "{'name': 'Edy', 'age': 26}\n"
     ]
    }
   ],
   "source": [
    "print(myDict)"
   ]
  },
  {
   "cell_type": "code",
   "execution_count": 14,
   "id": "7d631a3c",
   "metadata": {},
   "outputs": [],
   "source": [
    "dict = myDict.copy()"
   ]
  },
  {
   "cell_type": "code",
   "execution_count": 16,
   "id": "c27ec88d",
   "metadata": {},
   "outputs": [
    {
     "name": "stdout",
     "output_type": "stream",
     "text": [
      "{'name': 'Edy', 'age': 26}\n"
     ]
    }
   ],
   "source": [
    "print(dict)"
   ]
  },
  {
   "cell_type": "code",
   "execution_count": 17,
   "id": "9f23b4e7",
   "metadata": {},
   "outputs": [
    {
     "name": "stdout",
     "output_type": "stream",
     "text": [
      "{1: -1, 2: -1, 3: -1}\n"
     ]
    }
   ],
   "source": [
    "newDict = {}.fromkeys([1,2,3], -1)\n",
    "print(newDict)"
   ]
  },
  {
   "cell_type": "code",
   "execution_count": 18,
   "id": "60d2ddab",
   "metadata": {},
   "outputs": [
    {
     "name": "stdout",
     "output_type": "stream",
     "text": [
      "Edy\n"
     ]
    }
   ],
   "source": [
    "print(myDict.get('name', 26))"
   ]
  },
  {
   "cell_type": "code",
   "execution_count": 19,
   "id": "38a0b040",
   "metadata": {},
   "outputs": [
    {
     "name": "stdout",
     "output_type": "stream",
     "text": [
      "27\n"
     ]
    }
   ],
   "source": [
    "print(myDict.get('city', 27))"
   ]
  },
  {
   "cell_type": "code",
   "execution_count": 20,
   "id": "bd737838",
   "metadata": {},
   "outputs": [
    {
     "name": "stdout",
     "output_type": "stream",
     "text": [
      "None\n"
     ]
    }
   ],
   "source": [
    "print(myDict.get('city'))"
   ]
  },
  {
   "cell_type": "code",
   "execution_count": 21,
   "id": "f77ea9ba",
   "metadata": {},
   "outputs": [
    {
     "name": "stdout",
     "output_type": "stream",
     "text": [
      "dict_items([('name', 'Edy'), ('age', 26)])\n"
     ]
    }
   ],
   "source": [
    "print(myDict.items())"
   ]
  },
  {
   "cell_type": "code",
   "execution_count": 22,
   "id": "87568b72",
   "metadata": {},
   "outputs": [
    {
     "name": "stdout",
     "output_type": "stream",
     "text": [
      "dict_keys(['name', 'age'])\n"
     ]
    }
   ],
   "source": [
    "print(myDict.keys())"
   ]
  },
  {
   "cell_type": "code",
   "execution_count": 23,
   "id": "77a39b93",
   "metadata": {},
   "outputs": [
    {
     "name": "stdout",
     "output_type": "stream",
     "text": [
      "dict_values(['Edy', 26])\n"
     ]
    }
   ],
   "source": [
    "print(myDict.values())"
   ]
  },
  {
   "cell_type": "code",
   "execution_count": 24,
   "id": "1f740d1a",
   "metadata": {},
   "outputs": [
    {
     "name": "stdout",
     "output_type": "stream",
     "text": [
      "('age', 26)\n"
     ]
    }
   ],
   "source": [
    "print(myDict.popitem())"
   ]
  },
  {
   "cell_type": "code",
   "execution_count": 25,
   "id": "d9d537ce",
   "metadata": {},
   "outputs": [
    {
     "name": "stdout",
     "output_type": "stream",
     "text": [
      "{'name': 'Edy'}\n"
     ]
    }
   ],
   "source": [
    "print(myDict)"
   ]
  },
  {
   "cell_type": "code",
   "execution_count": 26,
   "id": "25108efc",
   "metadata": {},
   "outputs": [
    {
     "name": "stdout",
     "output_type": "stream",
     "text": [
      "Edy\n"
     ]
    }
   ],
   "source": [
    "print(myDict.setdefault('name', 'added'))"
   ]
  },
  {
   "cell_type": "code",
   "execution_count": 27,
   "id": "7f20bd76",
   "metadata": {},
   "outputs": [
    {
     "name": "stdout",
     "output_type": "stream",
     "text": [
      "{'name': 'Edy'}\n"
     ]
    }
   ],
   "source": [
    "print(myDict)"
   ]
  },
  {
   "cell_type": "code",
   "execution_count": 28,
   "id": "aadcdaba",
   "metadata": {},
   "outputs": [
    {
     "name": "stdout",
     "output_type": "stream",
     "text": [
      "added\n"
     ]
    }
   ],
   "source": [
    "print(myDict.setdefault('name1', 'added'))"
   ]
  },
  {
   "cell_type": "code",
   "execution_count": 29,
   "id": "19491e82",
   "metadata": {},
   "outputs": [
    {
     "name": "stdout",
     "output_type": "stream",
     "text": [
      "{'name': 'Edy', 'name1': 'added'}\n"
     ]
    }
   ],
   "source": [
    "print(myDict)"
   ]
  },
  {
   "cell_type": "code",
   "execution_count": 30,
   "id": "fbf52247",
   "metadata": {},
   "outputs": [
    {
     "name": "stdout",
     "output_type": "stream",
     "text": [
      "added\n"
     ]
    }
   ],
   "source": [
    "print(myDict.pop('name1', 'not'))"
   ]
  },
  {
   "cell_type": "code",
   "execution_count": 31,
   "id": "52ceb3ab",
   "metadata": {},
   "outputs": [
    {
     "name": "stdout",
     "output_type": "stream",
     "text": [
      "{'name': 'Edy'}\n"
     ]
    }
   ],
   "source": [
    "print(myDict)"
   ]
  },
  {
   "cell_type": "code",
   "execution_count": 32,
   "id": "908fd68f",
   "metadata": {},
   "outputs": [
    {
     "name": "stdout",
     "output_type": "stream",
     "text": [
      "{'name': 'Edy', 'a': 1, 'b': 2, 'c': 3}\n"
     ]
    }
   ],
   "source": [
    "newDict = {'a':1, 'b':2, 'c':3}\n",
    "myDict.update(newDict)\n",
    "print(myDict)"
   ]
  },
  {
   "cell_type": "code",
   "execution_count": null,
   "id": "16e08d32",
   "metadata": {},
   "outputs": [],
   "source": []
  }
 ],
 "metadata": {
  "kernelspec": {
   "display_name": "Python 3 (ipykernel)",
   "language": "python",
   "name": "python3"
  },
  "language_info": {
   "codemirror_mode": {
    "name": "ipython",
    "version": 3
   },
   "file_extension": ".py",
   "mimetype": "text/x-python",
   "name": "python",
   "nbconvert_exporter": "python",
   "pygments_lexer": "ipython3",
   "version": "3.9.12"
  }
 },
 "nbformat": 4,
 "nbformat_minor": 5
}
