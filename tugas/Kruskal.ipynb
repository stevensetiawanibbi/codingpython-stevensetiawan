{
 "cells": [
  {
   "cell_type": "code",
   "execution_count": 8,
   "id": "4aa58f49",
   "metadata": {},
   "outputs": [
    {
     "ename": "ModuleNotFoundError",
     "evalue": "No module named 'DisjointSet'",
     "output_type": "error",
     "traceback": [
      "\u001b[1;31m---------------------------------------------------------------------------\u001b[0m",
      "\u001b[1;31mModuleNotFoundError\u001b[0m                       Traceback (most recent call last)",
      "Cell \u001b[1;32mIn[8], line 1\u001b[0m\n\u001b[1;32m----> 1\u001b[0m \u001b[38;5;28;01mimport\u001b[39;00m \u001b[38;5;21;01mDisjointSet\u001b[39;00m \u001b[38;5;28;01mas\u001b[39;00m \u001b[38;5;21;01mdst\u001b[39;00m\n",
      "\u001b[1;31mModuleNotFoundError\u001b[0m: No module named 'DisjointSet'"
     ]
    }
   ],
   "source": [
    "import DisjointSet as dst"
   ]
  },
  {
   "cell_type": "code",
   "execution_count": 9,
   "id": "e0cd1d46",
   "metadata": {},
   "outputs": [],
   "source": [
    "class Graph:\n",
    "    def __init__(self, vertices):\n",
    "        self.V = vertices\n",
    "        self.graph = []\n",
    "        self.nodes = []\n",
    "        self.MST = []\n",
    "\n",
    "    def addEdge(self, s, d, w):\n",
    "        self.graph.append([s, d, w])\n",
    "    \n",
    "    def addNode(self, value):\n",
    "        self.nodes.append(value)\n",
    "    \n",
    "    def printSolution(self,s,d,w):\n",
    "        for s, d, w in self.MST:\n",
    "            print(\"%s - %s: %s\" % (s, d, w))\n",
    "    \n",
    "    def kruskalAlgo(self):\n",
    "        i, e = 0, 0\n",
    "        ds = dst.DisjointSet(self.nodes)\n",
    "        self.graph = sorted(self.graph, key=lambda item: item[2])\n",
    "        while e < self.V - 1:\n",
    "            s, d, w = self.graph[i]\n",
    "            i += 1\n",
    "            x = ds.find(s)\n",
    "            y = ds.find(d)\n",
    "            if x != y:\n",
    "                e += 1\n",
    "                self.MST.append([s,d,w])\n",
    "                ds.union(x,y)\n",
    "        self.printSolution(s,d,w)"
   ]
  },
  {
   "cell_type": "code",
   "execution_count": 10,
   "id": "cc65bed7",
   "metadata": {},
   "outputs": [],
   "source": [
    "g = Graph(5)"
   ]
  },
  {
   "cell_type": "code",
   "execution_count": 11,
   "id": "1c1aab27",
   "metadata": {},
   "outputs": [],
   "source": [
    "g.addNode(\"A\")\n",
    "g.addNode(\"B\")\n",
    "g.addNode(\"C\")\n",
    "g.addNode(\"D\")\n",
    "g.addNode(\"E\")\n",
    "g.addEdge(\"A\", \"B\", 5)\n",
    "g.addEdge(\"A\", \"C\", 13)\n",
    "g.addEdge(\"A\", \"E\", 15)\n",
    "g.addEdge(\"B\", \"A\", 5)\n",
    "g.addEdge(\"B\", \"C\", 10)\n",
    "g.addEdge(\"B\", \"D\", 8)\n",
    "g.addEdge(\"C\", \"A\", 13)\n",
    "g.addEdge(\"C\", \"B\", 10)\n",
    "g.addEdge(\"C\", \"E\", 20)\n",
    "g.addEdge(\"C\", \"D\", 6)\n",
    "g.addEdge(\"D\", \"B\", 8)\n",
    "g.addEdge(\"D\", \"C\", 6)\n",
    "g.addEdge(\"E\", \"A\", 15)\n",
    "g.addEdge(\"E\", \"C\", 20)"
   ]
  },
  {
   "cell_type": "code",
   "execution_count": 7,
   "id": "7b45def9",
   "metadata": {},
   "outputs": [
    {
     "ename": "NameError",
     "evalue": "name 'dst' is not defined",
     "output_type": "error",
     "traceback": [
      "\u001b[1;31m---------------------------------------------------------------------------\u001b[0m",
      "\u001b[1;31mNameError\u001b[0m                                 Traceback (most recent call last)",
      "Cell \u001b[1;32mIn[7], line 1\u001b[0m\n\u001b[1;32m----> 1\u001b[0m \u001b[43mg\u001b[49m\u001b[38;5;241;43m.\u001b[39;49m\u001b[43mkruskalAlgo\u001b[49m\u001b[43m(\u001b[49m\u001b[43m)\u001b[49m\n",
      "Cell \u001b[1;32mIn[4], line 20\u001b[0m, in \u001b[0;36mGraph.kruskalAlgo\u001b[1;34m(self)\u001b[0m\n\u001b[0;32m     18\u001b[0m \u001b[38;5;28;01mdef\u001b[39;00m \u001b[38;5;21mkruskalAlgo\u001b[39m(\u001b[38;5;28mself\u001b[39m):\n\u001b[0;32m     19\u001b[0m     i, e \u001b[38;5;241m=\u001b[39m \u001b[38;5;241m0\u001b[39m, \u001b[38;5;241m0\u001b[39m\n\u001b[1;32m---> 20\u001b[0m     ds \u001b[38;5;241m=\u001b[39m \u001b[43mdst\u001b[49m\u001b[38;5;241m.\u001b[39mDisjointSet(\u001b[38;5;28mself\u001b[39m\u001b[38;5;241m.\u001b[39mnodes)\n\u001b[0;32m     21\u001b[0m     \u001b[38;5;28mself\u001b[39m\u001b[38;5;241m.\u001b[39mgraph \u001b[38;5;241m=\u001b[39m \u001b[38;5;28msorted\u001b[39m(\u001b[38;5;28mself\u001b[39m\u001b[38;5;241m.\u001b[39mgraph, key\u001b[38;5;241m=\u001b[39m\u001b[38;5;28;01mlambda\u001b[39;00m item: item[\u001b[38;5;241m2\u001b[39m])\n\u001b[0;32m     22\u001b[0m     \u001b[38;5;28;01mwhile\u001b[39;00m e \u001b[38;5;241m<\u001b[39m \u001b[38;5;28mself\u001b[39m\u001b[38;5;241m.\u001b[39mV \u001b[38;5;241m-\u001b[39m \u001b[38;5;241m1\u001b[39m:\n",
      "\u001b[1;31mNameError\u001b[0m: name 'dst' is not defined"
     ]
    }
   ],
   "source": [
    "g.kruskalAlgo()"
   ]
  },
  {
   "cell_type": "code",
   "execution_count": null,
   "id": "e82111d5",
   "metadata": {},
   "outputs": [],
   "source": []
  }
 ],
 "metadata": {
  "kernelspec": {
   "display_name": "Python 3 (ipykernel)",
   "language": "python",
   "name": "python3"
  },
  "language_info": {
   "codemirror_mode": {
    "name": "ipython",
    "version": 3
   },
   "file_extension": ".py",
   "mimetype": "text/x-python",
   "name": "python",
   "nbconvert_exporter": "python",
   "pygments_lexer": "ipython3",
   "version": "3.10.9"
  }
 },
 "nbformat": 4,
 "nbformat_minor": 5
}
