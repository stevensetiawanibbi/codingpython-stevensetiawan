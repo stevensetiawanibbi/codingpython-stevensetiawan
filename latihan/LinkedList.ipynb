{
 "cells": [
  {
   "cell_type": "code",
   "execution_count": 15,
   "id": "20fef720",
   "metadata": {},
   "outputs": [],
   "source": [
    "from random import randint"
   ]
  },
  {
   "cell_type": "code",
   "execution_count": 16,
   "id": "aeded427",
   "metadata": {},
   "outputs": [],
   "source": [
    "class Node:\n",
    "    def __init__(self, value=None):\n",
    "        self.value = value\n",
    "        self.next = None\n",
    "        self.prev = None\n",
    "    \n",
    "    def __str__(self):\n",
    "        return str(self.value)"
   ]
  },
  {
   "cell_type": "code",
   "execution_count": 23,
   "id": "6b31ea8d",
   "metadata": {},
   "outputs": [],
   "source": [
    "class LinkedList:\n",
    "    def __init__(self, values = None):\n",
    "        self.head = None\n",
    "        self.tail = None\n",
    "        \n",
    "    def __iter__(self):\n",
    "        curNode = self.head\n",
    "        while curNode:\n",
    "            yield curNode\n",
    "            curNode = curNode.next\n",
    "            \n",
    "    def __str__(self):\n",
    "        values = [str(x.value) for x in self]\n",
    "        return '->'.join(values)\n",
    "        \n",
    "    def __len__(self):\n",
    "        result = 0\n",
    "        node = self.head\n",
    "        while node:\n",
    "            result += 1\n",
    "            node = node.next\n",
    "        return result\n",
    "    \n",
    "    def add(self, value):\n",
    "        if self.head is None:\n",
    "            newNode = Node(value)\n",
    "            self.head = newNode\n",
    "            self.tail = newNode\n",
    "        else:\n",
    "            self.tail.next = Node(value)\n",
    "            self.tail = self.tail.next\n",
    "        return self.tail\n",
    "    \n",
    "    def generate(self, n, min_value, max_value):\n",
    "        self.head = None\n",
    "        self.tail = None\n",
    "        for i in range(n):\n",
    "            self.add(randint(min_value,max_value))\n",
    "            return self"
   ]
  },
  {
   "cell_type": "code",
   "execution_count": 24,
   "id": "0bc666ec",
   "metadata": {},
   "outputs": [
    {
     "ename": "TypeError",
     "evalue": "Node() takes no arguments",
     "output_type": "error",
     "traceback": [
      "\u001b[1;31m---------------------------------------------------------------------------\u001b[0m",
      "\u001b[1;31mTypeError\u001b[0m                                 Traceback (most recent call last)",
      "Input \u001b[1;32mIn [24]\u001b[0m, in \u001b[0;36m<cell line: 2>\u001b[1;34m()\u001b[0m\n\u001b[0;32m      1\u001b[0m customLL \u001b[38;5;241m=\u001b[39m LinkedList()\n\u001b[1;32m----> 2\u001b[0m \u001b[43mcustomLL\u001b[49m\u001b[38;5;241;43m.\u001b[39;49m\u001b[43mgenerate\u001b[49m\u001b[43m(\u001b[49m\u001b[38;5;241;43m10\u001b[39;49m\u001b[43m,\u001b[49m\u001b[43m \u001b[49m\u001b[38;5;241;43m0\u001b[39;49m\u001b[43m,\u001b[49m\u001b[43m \u001b[49m\u001b[38;5;241;43m99\u001b[39;49m\u001b[43m)\u001b[49m\n",
      "Input \u001b[1;32mIn [23]\u001b[0m, in \u001b[0;36mLinkedList.generate\u001b[1;34m(self, n, min_value, max_value)\u001b[0m\n\u001b[0;32m     36\u001b[0m \u001b[38;5;28mself\u001b[39m\u001b[38;5;241m.\u001b[39mtail \u001b[38;5;241m=\u001b[39m \u001b[38;5;28;01mNone\u001b[39;00m\n\u001b[0;32m     37\u001b[0m \u001b[38;5;28;01mfor\u001b[39;00m i \u001b[38;5;129;01min\u001b[39;00m \u001b[38;5;28mrange\u001b[39m(n):\n\u001b[1;32m---> 38\u001b[0m     \u001b[38;5;28;43mself\u001b[39;49m\u001b[38;5;241;43m.\u001b[39;49m\u001b[43madd\u001b[49m\u001b[43m(\u001b[49m\u001b[43mrandint\u001b[49m\u001b[43m(\u001b[49m\u001b[43mmin_value\u001b[49m\u001b[43m,\u001b[49m\u001b[43mmax_value\u001b[49m\u001b[43m)\u001b[49m\u001b[43m)\u001b[49m\n\u001b[0;32m     39\u001b[0m     \u001b[38;5;28;01mreturn\u001b[39;00m \u001b[38;5;28mself\u001b[39m\n",
      "Input \u001b[1;32mIn [23]\u001b[0m, in \u001b[0;36mLinkedList.add\u001b[1;34m(self, value)\u001b[0m\n\u001b[0;32m     24\u001b[0m \u001b[38;5;28;01mdef\u001b[39;00m \u001b[38;5;21madd\u001b[39m(\u001b[38;5;28mself\u001b[39m, value):\n\u001b[0;32m     25\u001b[0m     \u001b[38;5;28;01mif\u001b[39;00m \u001b[38;5;28mself\u001b[39m\u001b[38;5;241m.\u001b[39mhead \u001b[38;5;129;01mis\u001b[39;00m \u001b[38;5;28;01mNone\u001b[39;00m:\n\u001b[1;32m---> 26\u001b[0m         newNode \u001b[38;5;241m=\u001b[39m \u001b[43mNode\u001b[49m\u001b[43m(\u001b[49m\u001b[43mvalue\u001b[49m\u001b[43m)\u001b[49m\n\u001b[0;32m     27\u001b[0m         \u001b[38;5;28mself\u001b[39m\u001b[38;5;241m.\u001b[39mhead \u001b[38;5;241m=\u001b[39m newNode\n\u001b[0;32m     28\u001b[0m         \u001b[38;5;28mself\u001b[39m\u001b[38;5;241m.\u001b[39mtail \u001b[38;5;241m=\u001b[39m newNode\n",
      "\u001b[1;31mTypeError\u001b[0m: Node() takes no arguments"
     ]
    }
   ],
   "source": [
    "customLL = LinkedList()\n",
    "customLL.generate(10, 0, 99)"
   ]
  },
  {
   "cell_type": "code",
   "execution_count": 25,
   "id": "29a90a62",
   "metadata": {},
   "outputs": [
    {
     "name": "stdout",
     "output_type": "stream",
     "text": [
      "\n"
     ]
    }
   ],
   "source": [
    "print(customLL)"
   ]
  },
  {
   "cell_type": "code",
   "execution_count": 26,
   "id": "17725c9f",
   "metadata": {},
   "outputs": [
    {
     "name": "stdout",
     "output_type": "stream",
     "text": [
      "0\n"
     ]
    }
   ],
   "source": [
    "print(len(customLL))"
   ]
  },
  {
   "cell_type": "code",
   "execution_count": null,
   "id": "3f97af5f",
   "metadata": {},
   "outputs": [],
   "source": []
  }
 ],
 "metadata": {
  "kernelspec": {
   "display_name": "Python 3 (ipykernel)",
   "language": "python",
   "name": "python3"
  },
  "language_info": {
   "codemirror_mode": {
    "name": "ipython",
    "version": 3
   },
   "file_extension": ".py",
   "mimetype": "text/x-python",
   "name": "python",
   "nbconvert_exporter": "python",
   "pygments_lexer": "ipython3",
   "version": "3.9.12"
  }
 },
 "nbformat": 4,
 "nbformat_minor": 5
}
