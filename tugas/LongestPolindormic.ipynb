{
 "cells": [
  {
   "cell_type": "code",
   "execution_count": 1,
   "id": "278fd17b",
   "metadata": {},
   "outputs": [],
   "source": [
    "# Longest Polindromic Subsequence in Python"
   ]
  },
  {
   "cell_type": "code",
   "execution_count": 2,
   "id": "b4ce5ef0",
   "metadata": {},
   "outputs": [],
   "source": [
    "def findLPS(s, startIndex, endIndex):\n",
    "    if startIndex > endIndex:\n",
    "        return 0\n",
    "    elif startIndex == endIndex:\n",
    "        return 1\n",
    "    elif s[startIndex] == s[endIndex]:\n",
    "        return 2 + findLPS(s, startIndex+1, endIndex-1)\n",
    "    else:\n",
    "        op1 = findLPS(s, startIndex, endIndex-1)\n",
    "        op2 = findLPS(s, startIndex+1, endIndex)\n",
    "        return max(op1, op2)"
   ]
  },
  {
   "cell_type": "code",
   "execution_count": 3,
   "id": "556173fa",
   "metadata": {},
   "outputs": [
    {
     "name": "stdout",
     "output_type": "stream",
     "text": [
      "5\n"
     ]
    }
   ],
   "source": [
    "print(findLPS(\"ELRMENMET\", 0, 8))"
   ]
  },
  {
   "cell_type": "code",
   "execution_count": null,
   "id": "23c29ede",
   "metadata": {},
   "outputs": [],
   "source": []
  }
 ],
 "metadata": {
  "kernelspec": {
   "display_name": "Python 3 (ipykernel)",
   "language": "python",
   "name": "python3"
  },
  "language_info": {
   "codemirror_mode": {
    "name": "ipython",
    "version": 3
   },
   "file_extension": ".py",
   "mimetype": "text/x-python",
   "name": "python",
   "nbconvert_exporter": "python",
   "pygments_lexer": "ipython3",
   "version": "3.10.9"
  }
 },
 "nbformat": 4,
 "nbformat_minor": 5
}
