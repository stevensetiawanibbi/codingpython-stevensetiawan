{
 "cells": [
  {
   "cell_type": "code",
   "execution_count": 1,
   "id": "eddb0517",
   "metadata": {},
   "outputs": [
    {
     "name": "stdout",
     "output_type": "stream",
     "text": [
      "True\n",
      "True\n",
      "1\n",
      "2\n"
     ]
    }
   ],
   "source": [
    "import queue as q\n",
    "\n",
    "customQueue = q.Queue(maxsize=3)\n",
    "print(customQueue.empty())\n",
    "customQueue.put(1)\n",
    "customQueue.put(2)\n",
    "customQueue.put(3)\n",
    "print(customQueue.full())\n",
    "print(customQueue.get())\n",
    "print(customQueue.qsize())"
   ]
  },
  {
   "cell_type": "code",
   "execution_count": null,
   "id": "d31ee0b5",
   "metadata": {},
   "outputs": [],
   "source": []
  }
 ],
 "metadata": {
  "kernelspec": {
   "display_name": "Python 3 (ipykernel)",
   "language": "python",
   "name": "python3"
  },
  "language_info": {
   "codemirror_mode": {
    "name": "ipython",
    "version": 3
   },
   "file_extension": ".py",
   "mimetype": "text/x-python",
   "name": "python",
   "nbconvert_exporter": "python",
   "pygments_lexer": "ipython3",
   "version": "3.10.9"
  }
 },
 "nbformat": 4,
 "nbformat_minor": 5
}
