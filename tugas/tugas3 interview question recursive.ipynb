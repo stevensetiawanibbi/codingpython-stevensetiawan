{
 "cells": [
  {
   "cell_type": "markdown",
   "id": "6bd82606",
   "metadata": {},
   "source": [
    "# Interview question 1"
   ]
  },
  {
   "cell_type": "code",
   "execution_count": 10,
   "id": "99a0281b",
   "metadata": {},
   "outputs": [
    {
     "name": "stdout",
     "output_type": "stream",
     "text": [
      "11\n"
     ]
    }
   ],
   "source": [
    "def sum_of_digits(n):\n",
    "    assert n >= 0 and int(n) == n\n",
    "    if n in [0]:\n",
    "        return n\n",
    "    else:\n",
    "        return n % 10 + sum_of_digits(n // 10)\n",
    "n = 56\n",
    "print(sum_of_digits(n))"
   ]
  },
  {
   "cell_type": "markdown",
   "id": "4e409ac2",
   "metadata": {},
   "source": [
    "# Interview question 2"
   ]
  },
  {
   "cell_type": "code",
   "execution_count": 13,
   "id": "183e2c5d",
   "metadata": {},
   "outputs": [
    {
     "name": "stdout",
     "output_type": "stream",
     "text": [
      "8\n"
     ]
    }
   ],
   "source": [
    "def power(x, n):\n",
    "    assert type(x) == int and x >= 0\n",
    "    assert type(n) == int and n >= 0\n",
    "    if n == 0:\n",
    "        return 1\n",
    "    elif n % 2 == 0:\n",
    "        return power(x*x, n//2)\n",
    "    else:\n",
    "        return x * power(x*x, (n-1)//2)\n",
    "x = 2\n",
    "n = 3\n",
    "print(power(x, n))"
   ]
  },
  {
   "cell_type": "markdown",
   "id": "e0f52b1e",
   "metadata": {},
   "source": [
    "# Interview question 3"
   ]
  },
  {
   "cell_type": "code",
   "execution_count": 15,
   "id": "66aa18eb",
   "metadata": {},
   "outputs": [
    {
     "name": "stdout",
     "output_type": "stream",
     "text": [
      "8\n"
     ]
    }
   ],
   "source": [
    "def gcd(a, b):\n",
    "    assert isinstance(a, int) and a >= 0\n",
    "    assert isinstance(b, int) and b >= 0\n",
    "    if b == 0:\n",
    "        return a\n",
    "    else:\n",
    "        return gcd(b, a % b)\n",
    "a = 24\n",
    "b = 8\n",
    "print(gcd(a, b))"
   ]
  },
  {
   "cell_type": "markdown",
   "id": "4cfa80ed",
   "metadata": {},
   "source": [
    "# Interview question 4"
   ]
  },
  {
   "cell_type": "code",
   "execution_count": 18,
   "id": "105c5e6d",
   "metadata": {},
   "outputs": [
    {
     "name": "stdout",
     "output_type": "stream",
     "text": [
      "10100100\n"
     ]
    }
   ],
   "source": [
    "def decimal_to_binary(n):\n",
    "    assert isinstance (n, int) and n >= 0\n",
    "    if n == 0:\n",
    "        return 0\n",
    "    else:\n",
    "        return (n % 2) + 10 * decimal_to_binary(n // 2)\n",
    "n = 164\n",
    "print(decimal_to_binary(n))"
   ]
  },
  {
   "cell_type": "code",
   "execution_count": null,
   "id": "a820a242",
   "metadata": {},
   "outputs": [],
   "source": []
  }
 ],
 "metadata": {
  "kernelspec": {
   "display_name": "Python 3 (ipykernel)",
   "language": "python",
   "name": "python3"
  },
  "language_info": {
   "codemirror_mode": {
    "name": "ipython",
    "version": 3
   },
   "file_extension": ".py",
   "mimetype": "text/x-python",
   "name": "python",
   "nbconvert_exporter": "python",
   "pygments_lexer": "ipython3",
   "version": "3.9.13"
  }
 },
 "nbformat": 4,
 "nbformat_minor": 5
}
