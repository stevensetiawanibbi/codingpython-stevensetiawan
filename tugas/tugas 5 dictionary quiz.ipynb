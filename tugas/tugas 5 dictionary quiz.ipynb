{
 "cells": [
  {
   "cell_type": "code",
   "execution_count": null,
   "id": "6d7d0b1b",
   "metadata": {},
   "outputs": [],
   "source": [
    "# question 1"
   ]
  },
  {
   "cell_type": "code",
   "execution_count": 1,
   "id": "3e0577e0",
   "metadata": {},
   "outputs": [
    {
     "name": "stdout",
     "output_type": "stream",
     "text": [
      "1\n"
     ]
    }
   ],
   "source": [
    "a = {(1,2):1,(2,3):2}\n",
    "print(a[1,2])"
   ]
  },
  {
   "cell_type": "code",
   "execution_count": null,
   "id": "cda96400",
   "metadata": {},
   "outputs": [],
   "source": [
    "# qustion 2"
   ]
  },
  {
   "cell_type": "code",
   "execution_count": 2,
   "id": "01f5c93a",
   "metadata": {},
   "outputs": [
    {
     "ename": "KeyError",
     "evalue": "('a', 'b')",
     "output_type": "error",
     "traceback": [
      "\u001b[1;31m---------------------------------------------------------------------------\u001b[0m",
      "\u001b[1;31mKeyError\u001b[0m                                  Traceback (most recent call last)",
      "\u001b[1;32m~\\AppData\\Local\\Temp\\ipykernel_10492\\4119248762.py\u001b[0m in \u001b[0;36m<module>\u001b[1;34m\u001b[0m\n\u001b[0;32m      1\u001b[0m \u001b[0ma\u001b[0m \u001b[1;33m=\u001b[0m \u001b[1;33m{\u001b[0m\u001b[1;34m'a'\u001b[0m\u001b[1;33m:\u001b[0m\u001b[1;36m1\u001b[0m\u001b[1;33m,\u001b[0m\u001b[1;34m'b'\u001b[0m\u001b[1;33m:\u001b[0m\u001b[1;36m2\u001b[0m\u001b[1;33m,\u001b[0m\u001b[1;34m'c'\u001b[0m\u001b[1;33m:\u001b[0m\u001b[1;36m3\u001b[0m\u001b[1;33m}\u001b[0m\u001b[1;33m\u001b[0m\u001b[1;33m\u001b[0m\u001b[0m\n\u001b[1;32m----> 2\u001b[1;33m \u001b[0mprint\u001b[0m \u001b[1;33m(\u001b[0m\u001b[0ma\u001b[0m\u001b[1;33m[\u001b[0m\u001b[1;34m'a'\u001b[0m\u001b[1;33m,\u001b[0m\u001b[1;34m'b'\u001b[0m\u001b[1;33m]\u001b[0m\u001b[1;33m)\u001b[0m\u001b[1;33m\u001b[0m\u001b[1;33m\u001b[0m\u001b[0m\n\u001b[0m",
      "\u001b[1;31mKeyError\u001b[0m: ('a', 'b')"
     ]
    }
   ],
   "source": [
    "a = {'a':1,'b':2,'c':3}\n",
    "print (a['a','b'])"
   ]
  },
  {
   "cell_type": "code",
   "execution_count": 3,
   "id": "cf35fbea",
   "metadata": {},
   "outputs": [],
   "source": [
    "# question 3"
   ]
  },
  {
   "cell_type": "code",
   "execution_count": 4,
   "id": "380c7260",
   "metadata": {},
   "outputs": [
    {
     "name": "stdout",
     "output_type": "stream",
     "text": [
      "3\n"
     ]
    }
   ],
   "source": [
    "fruit = {}\n",
    "\n",
    "def addone(index):\n",
    "    if index in fruit:\n",
    "        fruit[index] += 1\n",
    "    else:\n",
    "        fruit[index] = 1\n",
    "        \n",
    "addone('Apple')\n",
    "addone('Banana')\n",
    "addone('apple')\n",
    "print (len(fruit))"
   ]
  },
  {
   "cell_type": "code",
   "execution_count": 5,
   "id": "53c171bb",
   "metadata": {},
   "outputs": [],
   "source": [
    "# question 4"
   ]
  },
  {
   "cell_type": "code",
   "execution_count": 6,
   "id": "e6f5f281",
   "metadata": {},
   "outputs": [
    {
     "name": "stdout",
     "output_type": "stream",
     "text": [
      "4\n"
     ]
    }
   ],
   "source": [
    "arr = {}\n",
    "arr[1] = 1\n",
    "arr['1'] = 2\n",
    "arr[1] += 1\n",
    "\n",
    "sum = 0\n",
    "for k in arr:\n",
    "    sum += arr[k]\n",
    "\n",
    "print(sum)"
   ]
  },
  {
   "cell_type": "code",
   "execution_count": 7,
   "id": "0c887014",
   "metadata": {},
   "outputs": [],
   "source": [
    "# question 5"
   ]
  },
  {
   "cell_type": "code",
   "execution_count": 8,
   "id": "e4e6709e",
   "metadata": {},
   "outputs": [
    {
     "name": "stdout",
     "output_type": "stream",
     "text": [
      "6\n"
     ]
    }
   ],
   "source": [
    "my_dict = {}\n",
    "my_dict[1] = 1\n",
    "my_dict['1'] = 2\n",
    "my_dict[1.0] = 4\n",
    "\n",
    "sum = 0\n",
    "for k in my_dict:\n",
    "    sum += my_dict[k]\n",
    "    \n",
    "print (sum)"
   ]
  },
  {
   "cell_type": "code",
   "execution_count": 9,
   "id": "4e9eb0fc",
   "metadata": {},
   "outputs": [],
   "source": [
    "# question 6"
   ]
  },
  {
   "cell_type": "code",
   "execution_count": 10,
   "id": "aea9e55a",
   "metadata": {},
   "outputs": [
    {
     "name": "stdout",
     "output_type": "stream",
     "text": [
      "30\n",
      "{(1, 2, 4): 8, (4, 2, 1): 10, (1, 2): 12}\n"
     ]
    }
   ],
   "source": [
    "my_dict = {}\n",
    "my_dict[(1,2,4)] = 8\n",
    "my_dict[(4,2,1)] = 10\n",
    "my_dict[(1,2)] = 12\n",
    "\n",
    "sum = 0\n",
    "for k in my_dict:\n",
    "    sum += my_dict[k]\n",
    "\n",
    "print (sum)\n",
    "print(my_dict)"
   ]
  },
  {
   "cell_type": "code",
   "execution_count": 11,
   "id": "1af669c2",
   "metadata": {},
   "outputs": [],
   "source": [
    "# question 7"
   ]
  },
  {
   "cell_type": "code",
   "execution_count": 15,
   "id": "0a0ad2b0",
   "metadata": {},
   "outputs": [
    {
     "ename": "TypeError",
     "evalue": "unhashable type: 'dict'",
     "output_type": "error",
     "traceback": [
      "\u001b[1;31m---------------------------------------------------------------------------\u001b[0m",
      "\u001b[1;31mTypeError\u001b[0m                                 Traceback (most recent call last)",
      "\u001b[1;32m~\\AppData\\Local\\Temp\\ipykernel_10492\\176329147.py\u001b[0m in \u001b[0;36m<module>\u001b[1;34m\u001b[0m\n\u001b[0;32m      7\u001b[0m \u001b[0mcrates\u001b[0m\u001b[1;33m[\u001b[0m\u001b[1;34m'box'\u001b[0m\u001b[1;33m]\u001b[0m \u001b[1;33m=\u001b[0m \u001b[0mbox\u001b[0m\u001b[1;33m\u001b[0m\u001b[1;33m\u001b[0m\u001b[0m\n\u001b[0;32m      8\u001b[0m \u001b[0mcrates\u001b[0m\u001b[1;33m[\u001b[0m\u001b[1;34m'jars'\u001b[0m\u001b[1;33m]\u001b[0m \u001b[1;33m=\u001b[0m \u001b[0mjars\u001b[0m\u001b[1;33m\u001b[0m\u001b[1;33m\u001b[0m\u001b[0m\n\u001b[1;32m----> 9\u001b[1;33m \u001b[0mprint\u001b[0m\u001b[1;33m(\u001b[0m\u001b[0mlen\u001b[0m\u001b[1;33m(\u001b[0m\u001b[0mcrates\u001b[0m\u001b[1;33m[\u001b[0m\u001b[0mbox\u001b[0m\u001b[1;33m]\u001b[0m\u001b[1;33m)\u001b[0m\u001b[1;33m)\u001b[0m\u001b[1;33m\u001b[0m\u001b[1;33m\u001b[0m\u001b[0m\n\u001b[0m",
      "\u001b[1;31mTypeError\u001b[0m: unhashable type: 'dict'"
     ]
    }
   ],
   "source": [
    "box = {}\n",
    "jars = {}\n",
    "crates = {}\n",
    "box['biscuit'] = 1\n",
    "box['cake'] = 3\n",
    "jars['jam'] = 4\n",
    "crates['box'] = box\n",
    "crates['jars'] = jars\n",
    "print(len(crates[box]))"
   ]
  },
  {
   "cell_type": "code",
   "execution_count": 14,
   "id": "3159c9f2",
   "metadata": {},
   "outputs": [],
   "source": [
    "# question 8"
   ]
  },
  {
   "cell_type": "code",
   "execution_count": 16,
   "id": "e73d6935",
   "metadata": {},
   "outputs": [
    {
     "name": "stdout",
     "output_type": "stream",
     "text": [
      "96\n",
      "98\n",
      "97\n"
     ]
    }
   ],
   "source": [
    "dict = {'c': 97, 'a': 96, 'b': 98}\n",
    "\n",
    "for _ in sorted(dict):\n",
    "    print (dict[_])"
   ]
  },
  {
   "cell_type": "code",
   "execution_count": 17,
   "id": "33df2ccc",
   "metadata": {},
   "outputs": [],
   "source": [
    "# qustion 9"
   ]
  },
  {
   "cell_type": "code",
   "execution_count": 18,
   "id": "4872b096",
   "metadata": {},
   "outputs": [
    {
     "name": "stdout",
     "output_type": "stream",
     "text": [
      "False\n"
     ]
    }
   ],
   "source": [
    "rec = {\"Name\" : \"Python\", \"Age\":\"20\"}\n",
    "r = rec.copy()\n",
    "print(id(r) == id(rec))"
   ]
  },
  {
   "cell_type": "code",
   "execution_count": 19,
   "id": "7eb6e3d9",
   "metadata": {},
   "outputs": [],
   "source": [
    "# question 10"
   ]
  },
  {
   "cell_type": "code",
   "execution_count": 20,
   "id": "5046706a",
   "metadata": {},
   "outputs": [
    {
     "name": "stdout",
     "output_type": "stream",
     "text": [
      "False\n"
     ]
    }
   ],
   "source": [
    "rec = {\"Name\" : \"Python\", \"Age\":\"20\", \"Addr\" : \"NJ\", \"Country\" : \"USA\"}\n",
    "id1 = id(rec)\n",
    "del rec\n",
    "rec = {\"Name\" : \"Python\", \"Age\":\"20\", \"Addr\" : \"NJ\", \"Country\" : \"USA\"}\n",
    "id2 = id(rec)\n",
    "print(id1 == id2)"
   ]
  },
  {
   "cell_type": "code",
   "execution_count": null,
   "id": "3581bb57",
   "metadata": {},
   "outputs": [],
   "source": []
  }
 ],
 "metadata": {
  "kernelspec": {
   "display_name": "Python 3 (ipykernel)",
   "language": "python",
   "name": "python3"
  },
  "language_info": {
   "codemirror_mode": {
    "name": "ipython",
    "version": 3
   },
   "file_extension": ".py",
   "mimetype": "text/x-python",
   "name": "python",
   "nbconvert_exporter": "python",
   "pygments_lexer": "ipython3",
   "version": "3.9.13"
  }
 },
 "nbformat": 4,
 "nbformat_minor": 5
}
