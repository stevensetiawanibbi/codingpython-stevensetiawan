{
 "cells": [
  {
   "cell_type": "code",
   "execution_count": 1,
   "id": "d42e79e2",
   "metadata": {},
   "outputs": [],
   "source": [
    "# Number Factor Problem  in Python"
   ]
  },
  {
   "cell_type": "code",
   "execution_count": 2,
   "id": "7f209fbc",
   "metadata": {},
   "outputs": [],
   "source": [
    "def numberFactor(n):\n",
    "    if n in (0,1,2):\n",
    "        return 1\n",
    "    elif n == 3:\n",
    "        return 2\n",
    "    else:\n",
    "        subP1 = numberFactor(n-1)\n",
    "        subP2 = numberFactor(n-3)\n",
    "        subP3 = numberFactor(n-4)\n",
    "        return subP1+subP2+subP3"
   ]
  },
  {
   "cell_type": "code",
   "execution_count": 3,
   "id": "d9fbf34e",
   "metadata": {},
   "outputs": [
    {
     "name": "stdout",
     "output_type": "stream",
     "text": [
      "6\n"
     ]
    }
   ],
   "source": [
    "print(numberFactor(5))"
   ]
  },
  {
   "cell_type": "code",
   "execution_count": null,
   "id": "20e04655",
   "metadata": {},
   "outputs": [],
   "source": []
  }
 ],
 "metadata": {
  "kernelspec": {
   "display_name": "Python 3 (ipykernel)",
   "language": "python",
   "name": "python3"
  },
  "language_info": {
   "codemirror_mode": {
    "name": "ipython",
    "version": 3
   },
   "file_extension": ".py",
   "mimetype": "text/x-python",
   "name": "python",
   "nbconvert_exporter": "python",
   "pygments_lexer": "ipython3",
   "version": "3.10.9"
  }
 },
 "nbformat": 4,
 "nbformat_minor": 5
}
