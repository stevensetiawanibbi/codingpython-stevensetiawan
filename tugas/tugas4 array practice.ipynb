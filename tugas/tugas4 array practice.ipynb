{
 "cells": [
  {
   "cell_type": "markdown",
   "id": "ea44bec4",
   "metadata": {},
   "source": [
    "# 1. Create an array and traverse. \n"
   ]
  },
  {
   "cell_type": "code",
   "execution_count": 57,
   "id": "dcd7f721",
   "metadata": {},
   "outputs": [
    {
     "name": "stdout",
     "output_type": "stream",
     "text": [
      "1\n",
      "2\n",
      "3\n",
      "4\n",
      "5\n"
     ]
    }
   ],
   "source": [
    "my_array = ([1,2,3,4,5])\n",
    "\n",
    "for i in my_array:\n",
    "    print(i)"
   ]
  },
  {
   "cell_type": "markdown",
   "id": "3eae09f7",
   "metadata": {},
   "source": [
    "# 2. Access individual elements through indexes"
   ]
  },
  {
   "cell_type": "code",
   "execution_count": 58,
   "id": "ee278506",
   "metadata": {},
   "outputs": [
    {
     "name": "stdout",
     "output_type": "stream",
     "text": [
      "Step 2\n",
      "4\n"
     ]
    }
   ],
   "source": [
    "print(\"Step 2\")\n",
    "print(my_array[3])"
   ]
  },
  {
   "cell_type": "markdown",
   "id": "999358aa",
   "metadata": {},
   "source": [
    "# 3. Append any value to the array using append() method"
   ]
  },
  {
   "cell_type": "code",
   "execution_count": 59,
   "id": "9e0e8f30",
   "metadata": {},
   "outputs": [
    {
     "name": "stdout",
     "output_type": "stream",
     "text": [
      "Step 3\n",
      "[1, 2, 3, 4, 5, 6]\n"
     ]
    }
   ],
   "source": [
    "print(\"Step 3\")\n",
    "my_array.append(6)\n",
    "print(my_array)"
   ]
  },
  {
   "cell_type": "markdown",
   "id": "933a0e69",
   "metadata": {},
   "source": [
    "# 4. Insert value in an array using insert() method"
   ]
  },
  {
   "cell_type": "code",
   "execution_count": 60,
   "id": "fedfcbf0",
   "metadata": {},
   "outputs": [
    {
     "name": "stdout",
     "output_type": "stream",
     "text": [
      "Step 4\n",
      "(3, 11)\n"
     ]
    }
   ],
   "source": [
    "print(\"Step 4\")\n",
    "my_array = (3, 11)\n",
    "print(my_array)"
   ]
  },
  {
   "cell_type": "markdown",
   "id": "2b9816a2",
   "metadata": {},
   "source": [
    "# 5. Extend python array using extend() method"
   ]
  },
  {
   "cell_type": "code",
   "execution_count": 61,
   "id": "f59b605b",
   "metadata": {},
   "outputs": [
    {
     "name": "stdout",
     "output_type": "stream",
     "text": [
      "Step 5\n",
      "('i', [10, 11, 12])\n"
     ]
    }
   ],
   "source": [
    "print(\"Step 5\")\n",
    "my_array = ('i', [10,11,12])\n",
    "my_array = (my_array)\n",
    "print(my_array)"
   ]
  },
  {
   "cell_type": "markdown",
   "id": "c01b1370",
   "metadata": {},
   "source": [
    "# 6. Add items from list into array using fromlist() method"
   ]
  },
  {
   "cell_type": "code",
   "execution_count": 62,
   "id": "1c8e9f04",
   "metadata": {},
   "outputs": [
    {
     "name": "stdout",
     "output_type": "stream",
     "text": [
      "Step 6\n",
      "('i', [10, 11, 12])\n"
     ]
    }
   ],
   "source": [
    "print(\"Step 6\")\n",
    "tempList = [20,21,22]\n",
    "(tempList)\n",
    "print(my_array)"
   ]
  },
  {
   "cell_type": "markdown",
   "id": "8e5145b0",
   "metadata": {},
   "source": [
    "# 7. Remove any array element using remove() method"
   ]
  },
  {
   "cell_type": "code",
   "execution_count": 63,
   "id": "21b6c437",
   "metadata": {},
   "outputs": [
    {
     "name": "stdout",
     "output_type": "stream",
     "text": [
      "Step 7\n"
     ]
    },
    {
     "ename": "AttributeError",
     "evalue": "'tuple' object has no attribute 'remove'",
     "output_type": "error",
     "traceback": [
      "\u001b[1;31m---------------------------------------------------------------------------\u001b[0m",
      "\u001b[1;31mAttributeError\u001b[0m                            Traceback (most recent call last)",
      "Input \u001b[1;32mIn [63]\u001b[0m, in \u001b[0;36m<cell line: 2>\u001b[1;34m()\u001b[0m\n\u001b[0;32m      1\u001b[0m \u001b[38;5;28mprint\u001b[39m(\u001b[38;5;124m\"\u001b[39m\u001b[38;5;124mStep 7\u001b[39m\u001b[38;5;124m\"\u001b[39m)\n\u001b[1;32m----> 2\u001b[0m \u001b[43mmy_array\u001b[49m\u001b[38;5;241;43m.\u001b[39;49m\u001b[43mremove\u001b[49m(\u001b[38;5;241m11\u001b[39m)\n\u001b[0;32m      3\u001b[0m \u001b[38;5;28mprint\u001b[39m(my_array)\n",
      "\u001b[1;31mAttributeError\u001b[0m: 'tuple' object has no attribute 'remove'"
     ]
    }
   ],
   "source": [
    "print(\"Step 7\")\n",
    "my_array.remove(11)\n",
    "print(my_array)"
   ]
  },
  {
   "cell_type": "markdown",
   "id": "79b9ae34",
   "metadata": {},
   "source": [
    "# 8. Remove last array element using pop() method"
   ]
  },
  {
   "cell_type": "code",
   "execution_count": 64,
   "id": "f91b0782",
   "metadata": {},
   "outputs": [
    {
     "name": "stdout",
     "output_type": "stream",
     "text": [
      "Step 8\n"
     ]
    },
    {
     "ename": "AttributeError",
     "evalue": "'tuple' object has no attribute 'pop'",
     "output_type": "error",
     "traceback": [
      "\u001b[1;31m---------------------------------------------------------------------------\u001b[0m",
      "\u001b[1;31mAttributeError\u001b[0m                            Traceback (most recent call last)",
      "Input \u001b[1;32mIn [64]\u001b[0m, in \u001b[0;36m<cell line: 2>\u001b[1;34m()\u001b[0m\n\u001b[0;32m      1\u001b[0m \u001b[38;5;28mprint\u001b[39m(\u001b[38;5;124m\"\u001b[39m\u001b[38;5;124mStep 8\u001b[39m\u001b[38;5;124m\"\u001b[39m)\n\u001b[1;32m----> 2\u001b[0m \u001b[43mmy_array\u001b[49m\u001b[38;5;241;43m.\u001b[39;49m\u001b[43mpop\u001b[49m()\n\u001b[0;32m      3\u001b[0m \u001b[38;5;28mprint\u001b[39m(my_array)\n",
      "\u001b[1;31mAttributeError\u001b[0m: 'tuple' object has no attribute 'pop'"
     ]
    }
   ],
   "source": [
    "print(\"Step 8\")\n",
    "my_array.pop()\n",
    "print(my_array)"
   ]
  },
  {
   "cell_type": "markdown",
   "id": "dae2c7c3",
   "metadata": {},
   "source": [
    "# 9. Fetch any element through its index using index() method"
   ]
  },
  {
   "cell_type": "code",
   "execution_count": 65,
   "id": "24dbaffd",
   "metadata": {},
   "outputs": [
    {
     "name": "stdout",
     "output_type": "stream",
     "text": [
      "Step 9\n"
     ]
    },
    {
     "ename": "ValueError",
     "evalue": "tuple.index(x): x not in tuple",
     "output_type": "error",
     "traceback": [
      "\u001b[1;31m---------------------------------------------------------------------------\u001b[0m",
      "\u001b[1;31mValueError\u001b[0m                                Traceback (most recent call last)",
      "Input \u001b[1;32mIn [65]\u001b[0m, in \u001b[0;36m<cell line: 2>\u001b[1;34m()\u001b[0m\n\u001b[0;32m      1\u001b[0m \u001b[38;5;28mprint\u001b[39m(\u001b[38;5;124m\"\u001b[39m\u001b[38;5;124mStep 9\u001b[39m\u001b[38;5;124m\"\u001b[39m)\n\u001b[1;32m----> 2\u001b[0m \u001b[38;5;28mprint\u001b[39m(\u001b[43mmy_array\u001b[49m\u001b[38;5;241;43m.\u001b[39;49m\u001b[43mindex\u001b[49m\u001b[43m(\u001b[49m\u001b[38;5;241;43m21\u001b[39;49m\u001b[43m)\u001b[49m)\n",
      "\u001b[1;31mValueError\u001b[0m: tuple.index(x): x not in tuple"
     ]
    }
   ],
   "source": [
    "print(\"Step 9\")\n",
    "print(my_array.index(21))"
   ]
  },
  {
   "cell_type": "markdown",
   "id": "28ea9ff2",
   "metadata": {},
   "source": [
    "# 10. Reverse a python array using reverse() method"
   ]
  },
  {
   "cell_type": "code",
   "execution_count": 66,
   "id": "1514b624",
   "metadata": {},
   "outputs": [
    {
     "name": "stdout",
     "output_type": "stream",
     "text": [
      "Step 10\n"
     ]
    },
    {
     "ename": "AttributeError",
     "evalue": "'tuple' object has no attribute 'reverse'",
     "output_type": "error",
     "traceback": [
      "\u001b[1;31m---------------------------------------------------------------------------\u001b[0m",
      "\u001b[1;31mAttributeError\u001b[0m                            Traceback (most recent call last)",
      "Input \u001b[1;32mIn [66]\u001b[0m, in \u001b[0;36m<cell line: 2>\u001b[1;34m()\u001b[0m\n\u001b[0;32m      1\u001b[0m \u001b[38;5;28mprint\u001b[39m(\u001b[38;5;124m\"\u001b[39m\u001b[38;5;124mStep 10\u001b[39m\u001b[38;5;124m\"\u001b[39m)\n\u001b[1;32m----> 2\u001b[0m \u001b[43mmy_array\u001b[49m\u001b[38;5;241;43m.\u001b[39;49m\u001b[43mreverse\u001b[49m()\n\u001b[0;32m      3\u001b[0m \u001b[38;5;28mprint\u001b[39m(my_array)\n",
      "\u001b[1;31mAttributeError\u001b[0m: 'tuple' object has no attribute 'reverse'"
     ]
    }
   ],
   "source": [
    "print(\"Step 10\")\n",
    "my_array.reverse()\n",
    "print(my_array)"
   ]
  },
  {
   "cell_type": "markdown",
   "id": "5c0e9d84",
   "metadata": {},
   "source": [
    "# 11. Get array buffer information through buffer_info() method"
   ]
  },
  {
   "cell_type": "code",
   "execution_count": 67,
   "id": "4c279d73",
   "metadata": {},
   "outputs": [
    {
     "name": "stdout",
     "output_type": "stream",
     "text": [
      "Step 11\n"
     ]
    },
    {
     "ename": "AttributeError",
     "evalue": "'tuple' object has no attribute 'buffer_info'",
     "output_type": "error",
     "traceback": [
      "\u001b[1;31m---------------------------------------------------------------------------\u001b[0m",
      "\u001b[1;31mAttributeError\u001b[0m                            Traceback (most recent call last)",
      "Input \u001b[1;32mIn [67]\u001b[0m, in \u001b[0;36m<cell line: 2>\u001b[1;34m()\u001b[0m\n\u001b[0;32m      1\u001b[0m \u001b[38;5;28mprint\u001b[39m(\u001b[38;5;124m\"\u001b[39m\u001b[38;5;124mStep 11\u001b[39m\u001b[38;5;124m\"\u001b[39m)\n\u001b[1;32m----> 2\u001b[0m \u001b[38;5;28mprint\u001b[39m(\u001b[43mmy_array\u001b[49m\u001b[38;5;241;43m.\u001b[39;49m\u001b[43mbuffer_info\u001b[49m())\n",
      "\u001b[1;31mAttributeError\u001b[0m: 'tuple' object has no attribute 'buffer_info'"
     ]
    }
   ],
   "source": [
    "print(\"Step 11\")\n",
    "print(my_array.buffer_info())"
   ]
  },
  {
   "cell_type": "markdown",
   "id": "fe13fe59",
   "metadata": {},
   "source": [
    "# 12. Check for number of occurrences of an element using count() method"
   ]
  },
  {
   "cell_type": "code",
   "execution_count": 68,
   "id": "0349f03a",
   "metadata": {},
   "outputs": [
    {
     "name": "stdout",
     "output_type": "stream",
     "text": [
      "Step 12\n"
     ]
    },
    {
     "ename": "AttributeError",
     "evalue": "'tuple' object has no attribute 'append'",
     "output_type": "error",
     "traceback": [
      "\u001b[1;31m---------------------------------------------------------------------------\u001b[0m",
      "\u001b[1;31mAttributeError\u001b[0m                            Traceback (most recent call last)",
      "Input \u001b[1;32mIn [68]\u001b[0m, in \u001b[0;36m<cell line: 2>\u001b[1;34m()\u001b[0m\n\u001b[0;32m      1\u001b[0m \u001b[38;5;28mprint\u001b[39m(\u001b[38;5;124m\"\u001b[39m\u001b[38;5;124mStep 12\u001b[39m\u001b[38;5;124m\"\u001b[39m)\n\u001b[1;32m----> 2\u001b[0m \u001b[43mmy_array\u001b[49m\u001b[38;5;241;43m.\u001b[39;49m\u001b[43mappend\u001b[49m(\u001b[38;5;241m11\u001b[39m)\n\u001b[0;32m      3\u001b[0m \u001b[38;5;28mprint\u001b[39m(my_array\u001b[38;5;241m.\u001b[39mcount(\u001b[38;5;241m11\u001b[39m))\n\u001b[0;32m      4\u001b[0m \u001b[38;5;28mprint\u001b[39m(my_array)\n",
      "\u001b[1;31mAttributeError\u001b[0m: 'tuple' object has no attribute 'append'"
     ]
    }
   ],
   "source": [
    "print(\"Step 12\")\n",
    "my_array.append(11)\n",
    "print(my_array.count(11))\n",
    "print(my_array)"
   ]
  },
  {
   "cell_type": "markdown",
   "id": "69197f8f",
   "metadata": {},
   "source": [
    "# 13. Convert array to string using tostring() method"
   ]
  },
  {
   "cell_type": "code",
   "execution_count": 69,
   "id": "0345c33a",
   "metadata": {},
   "outputs": [
    {
     "name": "stdout",
     "output_type": "stream",
     "text": [
      "Step 13\n"
     ]
    },
    {
     "ename": "AttributeError",
     "evalue": "'tuple' object has no attribute 'tostring'",
     "output_type": "error",
     "traceback": [
      "\u001b[1;31m---------------------------------------------------------------------------\u001b[0m",
      "\u001b[1;31mAttributeError\u001b[0m                            Traceback (most recent call last)",
      "Input \u001b[1;32mIn [69]\u001b[0m, in \u001b[0;36m<cell line: 2>\u001b[1;34m()\u001b[0m\n\u001b[0;32m      1\u001b[0m \u001b[38;5;28mprint\u001b[39m(\u001b[38;5;124m\"\u001b[39m\u001b[38;5;124mStep 13\u001b[39m\u001b[38;5;124m\"\u001b[39m)\n\u001b[1;32m----> 2\u001b[0m strTemp \u001b[38;5;241m=\u001b[39m \u001b[43mmy_array\u001b[49m\u001b[38;5;241;43m.\u001b[39;49m\u001b[43mtostring\u001b[49m()\n\u001b[0;32m      3\u001b[0m \u001b[38;5;28mprint\u001b[39m(strTemp)\n\u001b[0;32m      4\u001b[0m ints \u001b[38;5;241m=\u001b[39m array(\u001b[38;5;124m'\u001b[39m\u001b[38;5;124mi\u001b[39m\u001b[38;5;124m'\u001b[39m)\n",
      "\u001b[1;31mAttributeError\u001b[0m: 'tuple' object has no attribute 'tostring'"
     ]
    }
   ],
   "source": [
    "print(\"Step 13\")\n",
    "strTemp = my_array.tostring()\n",
    "print(strTemp)\n",
    "ints = array('i')\n",
    "ints.fromstring(strTemp)\n",
    "print(ints)"
   ]
  },
  {
   "cell_type": "markdown",
   "id": "a1d85dc0",
   "metadata": {},
   "source": [
    "# 14. Convert array to a python list with same elements using tolist() method"
   ]
  },
  {
   "cell_type": "code",
   "execution_count": 70,
   "id": "84f17ee9",
   "metadata": {},
   "outputs": [
    {
     "name": "stdout",
     "output_type": "stream",
     "text": [
      "Step 14\n"
     ]
    },
    {
     "ename": "AttributeError",
     "evalue": "'tuple' object has no attribute 'tolist'",
     "output_type": "error",
     "traceback": [
      "\u001b[1;31m---------------------------------------------------------------------------\u001b[0m",
      "\u001b[1;31mAttributeError\u001b[0m                            Traceback (most recent call last)",
      "Input \u001b[1;32mIn [70]\u001b[0m, in \u001b[0;36m<cell line: 2>\u001b[1;34m()\u001b[0m\n\u001b[0;32m      1\u001b[0m \u001b[38;5;28mprint\u001b[39m(\u001b[38;5;124m\"\u001b[39m\u001b[38;5;124mStep 14\u001b[39m\u001b[38;5;124m\"\u001b[39m)\n\u001b[1;32m----> 2\u001b[0m \u001b[38;5;28mprint\u001b[39m(\u001b[43mmy_array\u001b[49m\u001b[38;5;241;43m.\u001b[39;49m\u001b[43mtolist\u001b[49m())\n",
      "\u001b[1;31mAttributeError\u001b[0m: 'tuple' object has no attribute 'tolist'"
     ]
    }
   ],
   "source": [
    "print(\"Step 14\")\n",
    "print(my_array.tolist())"
   ]
  },
  {
   "cell_type": "markdown",
   "id": "8f4f478b",
   "metadata": {},
   "source": [
    "# 16. Slice Elements from an array"
   ]
  },
  {
   "cell_type": "code",
   "execution_count": 71,
   "id": "86b2acd5",
   "metadata": {},
   "outputs": [
    {
     "name": "stdout",
     "output_type": "stream",
     "text": [
      "Step 16\n",
      "('i', [10, 11, 12])\n"
     ]
    }
   ],
   "source": [
    "print(\"Step 16\")\n",
    "print(my_array[:])"
   ]
  },
  {
   "cell_type": "code",
   "execution_count": null,
   "id": "05af5180",
   "metadata": {},
   "outputs": [],
   "source": []
  }
 ],
 "metadata": {
  "kernelspec": {
   "display_name": "Python 3 (ipykernel)",
   "language": "python",
   "name": "python3"
  },
  "language_info": {
   "codemirror_mode": {
    "name": "ipython",
    "version": 3
   },
   "file_extension": ".py",
   "mimetype": "text/x-python",
   "name": "python",
   "nbconvert_exporter": "python",
   "pygments_lexer": "ipython3",
   "version": "3.9.12"
  }
 },
 "nbformat": 4,
 "nbformat_minor": 5
}
