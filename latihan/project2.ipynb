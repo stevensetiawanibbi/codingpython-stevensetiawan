{
 "cells": [
  {
   "cell_type": "markdown",
   "id": "7f8f9dc1",
   "metadata": {},
   "source": [
    "# Russian Doll recursive function"
   ]
  },
  {
   "cell_type": "code",
   "execution_count": 1,
   "id": "4cf0b7c7",
   "metadata": {},
   "outputs": [
    {
     "name": "stdout",
     "output_type": "stream",
     "text": [
      "All dolls are opened\n"
     ]
    }
   ],
   "source": [
    "def openRussianDoll(doll):\n",
    "    if doll == 1:\n",
    "        print(\"All dolls are opened\")\n",
    "    else:\n",
    "        openRussianDoll(doll-1)\n",
    "        \n",
    "openRussianDoll(4)"
   ]
  },
  {
   "cell_type": "code",
   "execution_count": 13,
   "id": "fa48ce2a",
   "metadata": {},
   "outputs": [
    {
     "name": "stdout",
     "output_type": "stream",
     "text": [
      "I am the fourth method\n",
      "I am the third method\n",
      "I am the second method\n",
      "I am the first method\n"
     ]
    }
   ],
   "source": [
    "def firstMethod():\n",
    "    secondMethod()\n",
    "    print(\"I am the first method\")\n",
    "    \n",
    "def secondMethod():\n",
    "    thirdMethod()\n",
    "    print(\"I am the second method\")\n",
    "    \n",
    "def thirdMethod():\n",
    "    fourthMethod()\n",
    "    print(\"I am the third method\")\n",
    "\n",
    "def fourthMethod():\n",
    "    print(\"I am the fourth method\")\n",
    "    \n",
    "firstMethod()"
   ]
  },
  {
   "cell_type": "code",
   "execution_count": 8,
   "id": "a80763a6",
   "metadata": {},
   "outputs": [
    {
     "name": "stdout",
     "output_type": "stream",
     "text": [
      "n is less than 1\n",
      "1\n",
      "2\n",
      "3\n",
      "4\n"
     ]
    }
   ],
   "source": [
    "def recursiveMethod(n):\n",
    "    if n<1:\n",
    "        print(\"n is less than 1\")\n",
    "    else:\n",
    "        recursiveMethod(n-1)\n",
    "        print(n)\n",
    "        \n",
    "recursiveMethod(4)"
   ]
  },
  {
   "cell_type": "markdown",
   "id": "62d86ceb",
   "metadata": {},
   "source": [
    "# Recursion"
   ]
  },
  {
   "cell_type": "code",
   "execution_count": 12,
   "id": "95c16cdd",
   "metadata": {},
   "outputs": [
    {
     "name": "stdout",
     "output_type": "stream",
     "text": [
      "16\n"
     ]
    }
   ],
   "source": [
    "def powerOfTwo(n):\n",
    "    if n == 0:\n",
    "        return 1\n",
    "    else:\n",
    "        power = powerOfTwo(n-1)\n",
    "        return power * 2\n",
    "    \n",
    "print(powerOfTwo(4))"
   ]
  },
  {
   "cell_type": "markdown",
   "id": "6fc2ba27",
   "metadata": {},
   "source": [
    "# Iterarion"
   ]
  },
  {
   "cell_type": "code",
   "execution_count": 17,
   "id": "6bea05b8",
   "metadata": {},
   "outputs": [
    {
     "name": "stdout",
     "output_type": "stream",
     "text": [
      "13182040934309431001038897942365913631840191610932727690928034502417569281128344551079752123172122033140940756480716823038446817694240581281731062452512184038544674444386888956328970642771993930036586552924249514488832183389415832375620009284922608946111038578754077913265440918583125586050431647284603636490823850007826811672468900210689104488089485347192152708820119765006125944858397761874669301278745233504796586994514054435217053803732703240283400815926169348364799472716094576894007243168662568886603065832486830606125017643356469732407252874567217733694824236675323341755681839221954693820456072020253884371226826844858636194212875139566587445390068014747975813971748114770439248826688667129237954128555841874460665729630492658600179338272579110020881228767361200603478973120168893997574353727653998969223092798255701666067972698906236921628764772837915526086464389161570534616956703744840502975279094087587298968423516531626090898389351449020056851221079048966718878943309232071978575639877208621237040940126912767610658141079378758043403611425454744180577150855204937163460902512732551260539639221457005977247266676344018155647509515396711351487546062479444592779055555421362722504575706910949376\n"
     ]
    }
   ],
   "source": [
    "def powerOfTwoIt(n):\n",
    "    i = 0\n",
    "    power = 1\n",
    "    while i < n:\n",
    "        power = power * 2\n",
    "        i = i + 1\n",
    "    return power\n",
    "\n",
    "print(powerOfTwoIt(4000))"
   ]
  },
  {
   "cell_type": "markdown",
   "id": "3bda57c3",
   "metadata": {},
   "source": [
    "# Factorial"
   ]
  },
  {
   "cell_type": "code",
   "execution_count": 18,
   "id": "4049fcc0",
   "metadata": {},
   "outputs": [
    {
     "name": "stdout",
     "output_type": "stream",
     "text": [
      "24\n"
     ]
    }
   ],
   "source": [
    "def factorial(n):\n",
    "    assert n >= 0 and int(n) == n, 'The number must be positive integer only!'\n",
    "    if n in[0,1]:\n",
    "        return 1\n",
    "    else:\n",
    "        return n * factorial(n-1)\n",
    "    \n",
    "print(factorial(4))"
   ]
  },
  {
   "cell_type": "markdown",
   "id": "8d1e89a9",
   "metadata": {},
   "source": [
    "# Fibonacci"
   ]
  },
  {
   "cell_type": "code",
   "execution_count": 19,
   "id": "fa0f8b14",
   "metadata": {},
   "outputs": [
    {
     "name": "stdout",
     "output_type": "stream",
     "text": [
      "13\n"
     ]
    }
   ],
   "source": [
    "def fibonacci(n):\n",
    "    assert n >= 0 and int(n) == n, 'Fibonacci number cannot be negative number or non integer.'\n",
    "    if n in [0,1]:\n",
    "        return n\n",
    "    else:\n",
    "        return fibonacci(n-1) + fibonacci(n-2)\n",
    "    \n",
    "print(fibonacci(7))"
   ]
  },
  {
   "cell_type": "code",
   "execution_count": null,
   "id": "3786cd58",
   "metadata": {},
   "outputs": [],
   "source": []
  }
 ],
 "metadata": {
  "kernelspec": {
   "display_name": "Python 3 (ipykernel)",
   "language": "python",
   "name": "python3"
  },
  "language_info": {
   "codemirror_mode": {
    "name": "ipython",
    "version": 3
   },
   "file_extension": ".py",
   "mimetype": "text/x-python",
   "name": "python",
   "nbconvert_exporter": "python",
   "pygments_lexer": "ipython3",
   "version": "3.9.12"
  }
 },
 "nbformat": 4,
 "nbformat_minor": 5
}
