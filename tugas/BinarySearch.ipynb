{
 "cells": [
  {
   "cell_type": "code",
   "execution_count": 4,
   "id": "b4e76a11",
   "metadata": {},
   "outputs": [],
   "source": [
    "import math\n",
    "def binarySearch(array, value):\n",
    "    start = 0\n",
    "    end = len(array)-1\n",
    "    middle = math.floor((start+end)/2)\n",
    "    while not(array[middle]==value) and start<=end:\n",
    "        if value < array[middle]:\n",
    "            end = middle - 1\n",
    "        else:\n",
    "            start = middle + 1 \n",
    "        middle = math.floor((start+end)/2)\n",
    "        # print(start, middle, end)\n",
    "    if array[middle] == value:\n",
    "        return middle\n",
    "    else:\n",
    "        return -1"
   ]
  },
  {
   "cell_type": "code",
   "execution_count": 5,
   "id": "e2af1721",
   "metadata": {},
   "outputs": [],
   "source": [
    "custArray = [8, 9, 12, 15, 17, 19, 20, 21, 28]"
   ]
  },
  {
   "cell_type": "code",
   "execution_count": 6,
   "id": "c43318e6",
   "metadata": {},
   "outputs": [
    {
     "name": "stdout",
     "output_type": "stream",
     "text": [
      "3\n"
     ]
    }
   ],
   "source": [
    "print(binarySearch(custArray, 15))"
   ]
  },
  {
   "cell_type": "code",
   "execution_count": 7,
   "id": "84ea2511",
   "metadata": {},
   "outputs": [],
   "source": [
    "# [8, 9, 12, 15, 17, 19, 20, 21, 28]\n",
    "#  S              M               E\n",
    "#  S  M      E\n",
    "#        SM  E\n",
    "#            SME"
   ]
  },
  {
   "cell_type": "code",
   "execution_count": null,
   "id": "7a579845",
   "metadata": {},
   "outputs": [],
   "source": []
  }
 ],
 "metadata": {
  "kernelspec": {
   "display_name": "Python 3 (ipykernel)",
   "language": "python",
   "name": "python3"
  },
  "language_info": {
   "codemirror_mode": {
    "name": "ipython",
    "version": 3
   },
   "file_extension": ".py",
   "mimetype": "text/x-python",
   "name": "python",
   "nbconvert_exporter": "python",
   "pygments_lexer": "ipython3",
   "version": "3.10.9"
  }
 },
 "nbformat": 4,
 "nbformat_minor": 5
}
