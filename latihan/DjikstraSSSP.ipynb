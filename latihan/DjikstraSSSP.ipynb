{
 "cells": [
  {
   "cell_type": "code",
   "execution_count": 12,
   "id": "cb14b4ea",
   "metadata": {},
   "outputs": [],
   "source": [
    "from collections import defaultdict"
   ]
  },
  {
   "cell_type": "code",
   "execution_count": 13,
   "id": "2d960e11",
   "metadata": {},
   "outputs": [],
   "source": [
    "class Graph:\n",
    "    def __init__(self):\n",
    "        self.nodes = set()\n",
    "        self.edge = defaultdict(list)\n",
    "        self.distances = {}\n",
    "        \n",
    "    def addNode(self,value):\n",
    "        self.nodes.add(value)\n",
    "        \n",
    "    def addEdge(self, fromNode, toNode, distance):\n",
    "        self.edges[fromNode].append(toNode)\n",
    "        self.distances[(fromNode, toNode)] = distance"
   ]
  },
  {
   "cell_type": "code",
   "execution_count": 14,
   "id": "076001dc",
   "metadata": {},
   "outputs": [],
   "source": [
    "def dijkstra(graph, initial):\n",
    "    visited = {initial : 0}\n",
    "    path = defaultdict(list)\n",
    "    \n",
    "    nodes = set(graph.nodes)\n",
    "    \n",
    "    while nodes:\n",
    "        minNode = None\n",
    "        for node in nodes:\n",
    "            if node in visited:\n",
    "                if minNode is None:\n",
    "                    minNode = node\n",
    "                elif visited[node] < visited[minNode]:\n",
    "                    minNode = node\n",
    "        if minNode is None:\n",
    "            break\n",
    "            \n",
    "        nodes.remove(minNode)\n",
    "        currentWeight = visited[minNode]\n",
    "        \n",
    "        for edge in graph.edge[minNode]:\n",
    "            weight = currentWeight + graph.distances[(minNode, edge)]\n",
    "            if edge not in visited or weight < visited[edge]:\n",
    "                visited[edge] = weight\n",
    "                path[edge].append(minNode)\n",
    "                \n",
    "    return visited, path"
   ]
  },
  {
   "cell_type": "code",
   "execution_count": 17,
   "id": "cb0af1b5",
   "metadata": {},
   "outputs": [
    {
     "ename": "TypeError",
     "evalue": "addNode() takes 2 positional arguments but 4 were given",
     "output_type": "error",
     "traceback": [
      "\u001b[1;31m---------------------------------------------------------------------------\u001b[0m",
      "\u001b[1;31mTypeError\u001b[0m                                 Traceback (most recent call last)",
      "Input \u001b[1;32mIn [17]\u001b[0m, in \u001b[0;36m<cell line: 9>\u001b[1;34m()\u001b[0m\n\u001b[0;32m      7\u001b[0m customGraph\u001b[38;5;241m.\u001b[39maddNode(\u001b[38;5;124m\"\u001b[39m\u001b[38;5;124mF\u001b[39m\u001b[38;5;124m\"\u001b[39m)\n\u001b[0;32m      8\u001b[0m customGraph\u001b[38;5;241m.\u001b[39maddNode(\u001b[38;5;124m\"\u001b[39m\u001b[38;5;124mG\u001b[39m\u001b[38;5;124m\"\u001b[39m)\n\u001b[1;32m----> 9\u001b[0m \u001b[43mcustomGraph\u001b[49m\u001b[38;5;241;43m.\u001b[39;49m\u001b[43maddNode\u001b[49m\u001b[43m(\u001b[49m\u001b[38;5;124;43m\"\u001b[39;49m\u001b[38;5;124;43mA\u001b[39;49m\u001b[38;5;124;43m\"\u001b[39;49m\u001b[43m,\u001b[49m\u001b[43m \u001b[49m\u001b[38;5;124;43m\"\u001b[39;49m\u001b[38;5;124;43mB\u001b[39;49m\u001b[38;5;124;43m\"\u001b[39;49m\u001b[43m,\u001b[49m\u001b[43m \u001b[49m\u001b[38;5;241;43m2\u001b[39;49m\u001b[43m)\u001b[49m\n\u001b[0;32m     10\u001b[0m customGraph\u001b[38;5;241m.\u001b[39maddNode(\u001b[38;5;124m\"\u001b[39m\u001b[38;5;124mA\u001b[39m\u001b[38;5;124m\"\u001b[39m, \u001b[38;5;124m\"\u001b[39m\u001b[38;5;124mC\u001b[39m\u001b[38;5;124m\"\u001b[39m, \u001b[38;5;241m5\u001b[39m)\n\u001b[0;32m     11\u001b[0m customGraph\u001b[38;5;241m.\u001b[39maddNode(\u001b[38;5;124m\"\u001b[39m\u001b[38;5;124mB\u001b[39m\u001b[38;5;124m\"\u001b[39m, \u001b[38;5;124m\"\u001b[39m\u001b[38;5;124mC\u001b[39m\u001b[38;5;124m\"\u001b[39m, \u001b[38;5;241m6\u001b[39m)\n",
      "\u001b[1;31mTypeError\u001b[0m: addNode() takes 2 positional arguments but 4 were given"
     ]
    }
   ],
   "source": [
    "customGraph = Graph()\n",
    "customGraph.addNode(\"A\")\n",
    "customGraph.addNode(\"B\")\n",
    "customGraph.addNode(\"C\")\n",
    "customGraph.addNode(\"D\")\n",
    "customGraph.addNode(\"E\")\n",
    "customGraph.addNode(\"F\")\n",
    "customGraph.addNode(\"G\")\n",
    "customGraph.addNode(\"A\", \"B\", 2)\n",
    "customGraph.addNode(\"A\", \"C\", 5)\n",
    "customGraph.addNode(\"B\", \"C\", 6)\n",
    "customGraph.addNode(\"B\", \"D\", 1)\n",
    "customGraph.addNode(\"B\", \"E\", 3)\n",
    "customGraph.addNode(\"C\", \"F\", 8)\n",
    "customGraph.addNode(\"D\", \"E\", 4)\n",
    "customGraph.addNode(\"E\", \"G\", 9)\n",
    "customGraph.addNode(\"F\", \"G\", 7)"
   ]
  },
  {
   "cell_type": "code",
   "execution_count": 18,
   "id": "2d3a0c5f",
   "metadata": {},
   "outputs": [
    {
     "name": "stdout",
     "output_type": "stream",
     "text": [
      "({'A': 0}, defaultdict(<class 'list'>, {}))\n"
     ]
    }
   ],
   "source": [
    "print(dijkstra(customGraph, \"A\"))"
   ]
  },
  {
   "cell_type": "code",
   "execution_count": null,
   "id": "da718ae7",
   "metadata": {},
   "outputs": [],
   "source": [
    "# see change the distance from d to e to 1 and from b to e to 6\n",
    "# then to get to e from a"
   ]
  }
 ],
 "metadata": {
  "kernelspec": {
   "display_name": "Python 3 (ipykernel)",
   "language": "python",
   "name": "python3"
  },
  "language_info": {
   "codemirror_mode": {
    "name": "ipython",
    "version": 3
   },
   "file_extension": ".py",
   "mimetype": "text/x-python",
   "name": "python",
   "nbconvert_exporter": "python",
   "pygments_lexer": "ipython3",
   "version": "3.9.12"
  }
 },
 "nbformat": 4,
 "nbformat_minor": 5
}
