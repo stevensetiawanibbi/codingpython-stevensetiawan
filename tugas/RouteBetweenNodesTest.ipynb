{
 "cells": [
  {
   "cell_type": "code",
   "execution_count": 6,
   "id": "7e04b1c8",
   "metadata": {},
   "outputs": [],
   "source": [
    "class Graph:\n",
    "    def __init__(self, gdict=None):\n",
    "        if gdict is None:\n",
    "            gdict = {}\n",
    "        self.gdict = gdict\n",
    "    \n",
    "    def addEdge(self, vertex, edge):\n",
    "        self.gdict[vertex].append(edge)\n",
    "    \n",
    "    def checkRoute(self, startNode, endNode):\n",
    "        visited = []\n",
    "        queue = []\n",
    "        path = []\n",
    "        queue.append(startNode)\n",
    "        while queue:\n",
    "            deVertex = queue.pop(0)\n",
    "            path.append(deVertex)\n",
    "            if deVertex == endNode:\n",
    "                break\n",
    "            if deVertex not in visited:\n",
    "                visited.append(deVertex)\n",
    "            for adjacentVertex in self.gdict[deVertex]:\n",
    "                if adjacentVertex not in visited:\n",
    "                    queue.append(adjacentVertex)\n",
    "        return path"
   ]
  },
  {
   "cell_type": "code",
   "execution_count": 7,
   "id": "db48e747",
   "metadata": {},
   "outputs": [],
   "source": [
    "customDict = {\n",
    "    \"a\": [\"b\", \"c\"],\n",
    "    \"b\": [\"d\", \"e\"],\n",
    "    \"c\": [\"f\"],\n",
    "    \"d\": [],\n",
    "    \"e\": [\"f\"],\n",
    "    \"f\": [\"j\"],\n",
    "    \"j\": []\n",
    "}"
   ]
  },
  {
   "cell_type": "code",
   "execution_count": 8,
   "id": "e299e9ed",
   "metadata": {},
   "outputs": [],
   "source": [
    "g = Graph(customDict)"
   ]
  },
  {
   "cell_type": "code",
   "execution_count": 9,
   "id": "4bb4c333",
   "metadata": {},
   "outputs": [
    {
     "name": "stdout",
     "output_type": "stream",
     "text": [
      "['a', 'b', 'c', 'd', 'e', 'f', 'f', 'j']\n"
     ]
    }
   ],
   "source": [
    "print(g.checkRoute(\"a\", \"j\"))"
   ]
  },
  {
   "cell_type": "code",
   "execution_count": null,
   "id": "b87553e3",
   "metadata": {},
   "outputs": [],
   "source": []
  }
 ],
 "metadata": {
  "kernelspec": {
   "display_name": "Python 3 (ipykernel)",
   "language": "python",
   "name": "python3"
  },
  "language_info": {
   "codemirror_mode": {
    "name": "ipython",
    "version": 3
   },
   "file_extension": ".py",
   "mimetype": "text/x-python",
   "name": "python",
   "nbconvert_exporter": "python",
   "pygments_lexer": "ipython3",
   "version": "3.10.9"
  }
 },
 "nbformat": 4,
 "nbformat_minor": 5
}
