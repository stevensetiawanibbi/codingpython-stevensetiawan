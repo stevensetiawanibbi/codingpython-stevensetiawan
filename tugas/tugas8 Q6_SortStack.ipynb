{
 "cells": [
  {
   "cell_type": "code",
   "execution_count": 1,
   "id": "fd4ad612",
   "metadata": {},
   "outputs": [],
   "source": [
    "# Sort a stack with the smallest on top using only a single temporary stack"
   ]
  },
  {
   "cell_type": "code",
   "execution_count": 2,
   "id": "e08c68c0",
   "metadata": {},
   "outputs": [
    {
     "name": "stderr",
     "output_type": "stream",
     "text": [
      "E\n",
      "======================================================================\n",
      "ERROR: C:\\Users\\Acer\\AppData\\Roaming\\jupyter\\runtime\\kernel-e5ea4eb7-f5fc-4c88-8eb1-8d09700e99c0 (unittest.loader._FailedTest)\n",
      "----------------------------------------------------------------------\n",
      "AttributeError: module '__main__' has no attribute 'C:\\Users\\Acer\\AppData\\Roaming\\jupyter\\runtime\\kernel-e5ea4eb7-f5fc-4c88-8eb1-8d09700e99c0'\n",
      "\n",
      "----------------------------------------------------------------------\n",
      "Ran 1 test in 0.009s\n",
      "\n",
      "FAILED (errors=1)\n"
     ]
    },
    {
     "ename": "SystemExit",
     "evalue": "True",
     "output_type": "error",
     "traceback": [
      "An exception has occurred, use %tb to see the full traceback.\n",
      "\u001b[1;31mSystemExit\u001b[0m\u001b[1;31m:\u001b[0m True\n"
     ]
    },
    {
     "name": "stderr",
     "output_type": "stream",
     "text": [
      "C:\\Users\\Acer\\anaconda3\\lib\\site-packages\\IPython\\core\\interactiveshell.py:3468: UserWarning: To exit: use 'exit', 'quit', or Ctrl-D.\n",
      "  warn(\"To exit: use 'exit', 'quit', or Ctrl-D.\", stacklevel=1)\n"
     ]
    }
   ],
   "source": [
    "def sort_stack(stack):\n",
    "  previous = stack.pop()\n",
    "  current = stack.pop()\n",
    "  temp = Stack()\n",
    "  while current:\n",
    "    if previous < current:\n",
    "      temp.push(previous)\n",
    "      previous = current\n",
    "      current = stack.pop()\n",
    "    else: \n",
    "      temp.push(current)\n",
    "      current = stack.pop()\n",
    "    if current == None and previous: temp.push(previous)\n",
    "       \n",
    "  sorted = True\n",
    "  previous = temp.pop()\n",
    "  current = temp.pop()\n",
    "  while current:\n",
    "    if previous > current:\n",
    "      stack.push(previous)\n",
    "      previous = current\n",
    "      current = temp.pop()\n",
    "    else: \n",
    "      stack.push(current)\n",
    "      current = temp.pop()\n",
    "      sorted = False\n",
    "    if current == None and previous: stack.push(previous)\n",
    "  if sorted: return stack\n",
    "  else: return sort_stack(stack)\n",
    "\n",
    "class Stack():\n",
    "  def __init__(self):\n",
    "    self.top = None\n",
    "  \n",
    "  def __str__(self):\n",
    "    return str(self.top)\n",
    "  \n",
    "  def push(self, item):\n",
    "    self.top = current(item, self.top)\n",
    "  \n",
    "  def pop(self):\n",
    "    if not self.top:\n",
    "      return None\n",
    "    item = self.top\n",
    "    self.top = self.top.next\n",
    "    return item.data\n",
    "\n",
    "class current():\n",
    "  def __init__(self, data=None, next=None):\n",
    "    self.data, self.next = data, next\n",
    "  \n",
    "  def __str__(self):\n",
    "    return str(self and self.data) + ',' + str(self and self.next)\n",
    "\n",
    "import unittest\n",
    "\n",
    "class Test(unittest.TestCase):\n",
    "  def test_sort_stack(self):\n",
    "    self.assertEqual(str(sort_stack(Stack())), \"None\")\n",
    "    stack = Stack()\n",
    "    stack.push(10)\n",
    "    stack.push(30)\n",
    "    stack.push(70)\n",
    "    stack.push(40)\n",
    "    stack.push(80)\n",
    "    stack.push(20)\n",
    "    stack.push(90)\n",
    "    stack.push(50)\n",
    "    stack.push(60)\n",
    "    self.assertEqual(str(stack), \"60,50,90,20,80,40,70,30,10,None\")\n",
    "    self.assertEqual(str(sort_stack(stack)), \"10,20,30,40,50,60,70,80,90,None\")\n",
    "\n",
    "unittest.main()"
   ]
  },
  {
   "cell_type": "code",
   "execution_count": null,
   "id": "f1f7c247",
   "metadata": {},
   "outputs": [],
   "source": []
  }
 ],
 "metadata": {
  "kernelspec": {
   "display_name": "Python 3 (ipykernel)",
   "language": "python",
   "name": "python3"
  },
  "language_info": {
   "codemirror_mode": {
    "name": "ipython",
    "version": 3
   },
   "file_extension": ".py",
   "mimetype": "text/x-python",
   "name": "python",
   "nbconvert_exporter": "python",
   "pygments_lexer": "ipython3",
   "version": "3.10.9"
  }
 },
 "nbformat": 4,
 "nbformat_minor": 5
}
