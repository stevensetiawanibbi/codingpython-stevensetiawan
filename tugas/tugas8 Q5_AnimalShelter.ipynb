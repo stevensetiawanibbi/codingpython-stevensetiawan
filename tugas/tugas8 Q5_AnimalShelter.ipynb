{
 "cells": [
  {
   "cell_type": "code",
   "execution_count": 1,
   "id": "83d5b519",
   "metadata": {},
   "outputs": [],
   "source": [
    "# Implement a cat and dog queue for an animal shelter"
   ]
  },
  {
   "cell_type": "code",
   "execution_count": 2,
   "id": "fd573016",
   "metadata": {},
   "outputs": [
    {
     "name": "stdout",
     "output_type": "stream",
     "text": [
      "Cat1\n"
     ]
    }
   ],
   "source": [
    "class AnimalShelter():\n",
    "  def __init__(self):\n",
    "    self.cats = []\n",
    "    self.dogs = []\n",
    "  \n",
    "  def enqueue(self, animal, type):\n",
    "    if type == 'Cat':\n",
    "      self.cats.append(animal)\n",
    "    else:\n",
    "      self.dogs.append(animal)\n",
    "    \n",
    "  def dequeueCat(self):\n",
    "    if len(self.cats) == 0:\n",
    "      return None\n",
    "    else:\n",
    "      cat = self.cats.pop(0)\n",
    "      return cat\n",
    "  \n",
    "  def dequeueDog(self):\n",
    "    if len(self.dogs) == 0:\n",
    "      return None\n",
    "    else:\n",
    "      dog = self.dogs.pop(0)\n",
    "      return dog\n",
    "  \n",
    "  def dequeueAny(self):\n",
    "    if len(self.cats) == 0:\n",
    "      result = self.dogs.pop(0)\n",
    "    else:\n",
    "      result = self.cats.pop(0)\n",
    "    return result\n",
    "\n",
    "customQueue = AnimalShelter()\n",
    "customQueue.enqueue('Cat1', 'Cat')\n",
    "customQueue.enqueue('Cat2', 'Cat')\n",
    "customQueue.enqueue('Dog1', 'Dog')\n",
    "customQueue.enqueue('Cat3', 'Cat')\n",
    "customQueue.enqueue('Dog2', 'Dog')\n",
    "print(customQueue.dequeueAny())"
   ]
  },
  {
   "cell_type": "code",
   "execution_count": null,
   "id": "874b9bbc",
   "metadata": {},
   "outputs": [],
   "source": []
  }
 ],
 "metadata": {
  "kernelspec": {
   "display_name": "Python 3 (ipykernel)",
   "language": "python",
   "name": "python3"
  },
  "language_info": {
   "codemirror_mode": {
    "name": "ipython",
    "version": 3
   },
   "file_extension": ".py",
   "mimetype": "text/x-python",
   "name": "python",
   "nbconvert_exporter": "python",
   "pygments_lexer": "ipython3",
   "version": "3.10.9"
  }
 },
 "nbformat": 4,
 "nbformat_minor": 5
}
