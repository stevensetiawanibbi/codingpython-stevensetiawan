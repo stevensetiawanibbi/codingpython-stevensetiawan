{
 "cells": [
  {
   "cell_type": "markdown",
   "id": "b30983f7",
   "metadata": {},
   "source": [
    "# interview question 1"
   ]
  },
  {
   "cell_type": "code",
   "execution_count": 1,
   "id": "d89f7ef6",
   "metadata": {},
   "outputs": [
    {
     "name": "stdout",
     "output_type": "stream",
     "text": [
      "Sum = 10, Product = 24\n"
     ]
    }
   ],
   "source": [
    "def foo(array):\n",
    "    sum = 0\n",
    "    product = 1\n",
    "    \n",
    "    for i in array:\n",
    "        sum += i\n",
    "        \n",
    "    for i in array:\n",
    "        product *= i\n",
    "    print(\"Sum = \"+str(sum)+\", Product = \"+str(product))\n",
    "    \n",
    "ar1 = [1,2,3,4]\n",
    "foo(ar1)"
   ]
  },
  {
   "cell_type": "markdown",
   "id": "01fe569b",
   "metadata": {},
   "source": [
    "# interview question 2"
   ]
  },
  {
   "cell_type": "code",
   "execution_count": 4,
   "id": "fc573736",
   "metadata": {},
   "outputs": [],
   "source": [
    "def PrintPairs(array):\n",
    "    for i in array:\n",
    "        for j in array:\n",
    "            print(str(i)+\",\"+str(j))"
   ]
  },
  {
   "cell_type": "markdown",
   "id": "22067577",
   "metadata": {},
   "source": [
    "# interview question 3"
   ]
  },
  {
   "cell_type": "code",
   "execution_count": 5,
   "id": "4a79a891",
   "metadata": {},
   "outputs": [],
   "source": [
    "def printUnorderedPairs(array):\n",
    "    for i in range(0,len(array)):\n",
    "        for j in range(i+1,len(array)):\n",
    "            print(array[i] + \",\" + array[j])"
   ]
  },
  {
   "cell_type": "markdown",
   "id": "8d9fc2ee",
   "metadata": {},
   "source": [
    "# interview question 4"
   ]
  },
  {
   "cell_type": "code",
   "execution_count": 2,
   "id": "4c6cfa1b",
   "metadata": {},
   "outputs": [],
   "source": [
    "def printUnorderedPairs(arrayA, arrayB):\n",
    "    for i in range (len(arrayA)):\n",
    "        for j in range(len(arrayB)):\n",
    "            if arrayA[i] < arrayB[j]:\n",
    "                print(str(arrayA[i]) + \",\" + str(arrayB[j]))\n",
    "                \n",
    "arrayA = [1,2,3,4,5]\n",
    "arrayB = [2,6,7,8]"
   ]
  },
  {
   "cell_type": "markdown",
   "id": "c53a1760",
   "metadata": {},
   "source": [
    "# interview question 5"
   ]
  },
  {
   "cell_type": "code",
   "execution_count": 3,
   "id": "4bb06a6a",
   "metadata": {},
   "outputs": [],
   "source": [
    "def printUnorderedPairs(arrayA, arrayB):\n",
    "    for i in range (len(arrayA)):\n",
    "        for j in range(len(arrayB)):\n",
    "            for k in range(0,100000):\n",
    "                print(str(arrayA[i]) + \",\" + str(arrayB[j]))\n",
    "                \n",
    "# printUnorderedPairss(arrayA,arrayB)"
   ]
  },
  {
   "cell_type": "markdown",
   "id": "bb3046c0",
   "metadata": {},
   "source": [
    "# interview question 6"
   ]
  },
  {
   "cell_type": "code",
   "execution_count": 4,
   "id": "469a35c0",
   "metadata": {},
   "outputs": [
    {
     "name": "stdout",
     "output_type": "stream",
     "text": [
      "[5, 4, 3, 2, 1]\n"
     ]
    }
   ],
   "source": [
    "def reverse(array):\n",
    "    for i in range(0, int(len(array)/2)):\n",
    "        other = len(array)-i-1\n",
    "        temp = array[i]\n",
    "        array[i] = array[other]\n",
    "        array[other] = temp\n",
    "    print(array)\n",
    "    \n",
    "reverse(arrayA)"
   ]
  },
  {
   "cell_type": "markdown",
   "id": "6e2bd904",
   "metadata": {},
   "source": [
    "# interview question 8"
   ]
  },
  {
   "cell_type": "code",
   "execution_count": 5,
   "id": "adaa94d5",
   "metadata": {},
   "outputs": [
    {
     "name": "stdout",
     "output_type": "stream",
     "text": [
      "6\n"
     ]
    }
   ],
   "source": [
    "def factorial(n):\n",
    "    if n < 0:\n",
    "        return -1\n",
    "    elif n == 0:\n",
    "        return 1\n",
    "    else:\n",
    "        return n * factorial(n-1)\n",
    "    \n",
    "print(factorial(3))"
   ]
  },
  {
   "cell_type": "markdown",
   "id": "1f6b12f7",
   "metadata": {},
   "source": [
    "# interview question 9"
   ]
  },
  {
   "cell_type": "code",
   "execution_count": 12,
   "id": "4008c1a0",
   "metadata": {},
   "outputs": [],
   "source": [
    "def allFib(n):\n",
    "    for i in range(n):\n",
    "        print(str(i)+\":, \" + str(fib(i)))\n",
    "    \n",
    "def fib(n):\n",
    "    if n <= 0:\n",
    "        return 0\n",
    "    elif n == 1:\n",
    "        return 1\n",
    "    return fib(n-1) + fib (n-2)"
   ]
  },
  {
   "cell_type": "markdown",
   "id": "2541ba7c",
   "metadata": {},
   "source": [
    "# interview question 10"
   ]
  },
  {
   "cell_type": "code",
   "execution_count": 6,
   "id": "69ff7926",
   "metadata": {},
   "outputs": [
    {
     "ename": "NameError",
     "evalue": "name 'powersOf2' is not defined",
     "output_type": "error",
     "traceback": [
      "\u001b[1;31m---------------------------------------------------------------------------\u001b[0m",
      "\u001b[1;31mNameError\u001b[0m                                 Traceback (most recent call last)",
      "Input \u001b[1;32mIn [6]\u001b[0m, in \u001b[0;36m<cell line: 13>\u001b[1;34m()\u001b[0m\n\u001b[0;32m     10\u001b[0m         \u001b[38;5;28mprint\u001b[39m(curr)\n\u001b[0;32m     11\u001b[0m         \u001b[38;5;28;01mreturn\u001b[39;00m curr\n\u001b[1;32m---> 13\u001b[0m \u001b[43mpowersOf2\u001b[49m(\u001b[38;5;241m50\u001b[39m)\n",
      "\u001b[1;31mNameError\u001b[0m: name 'powersOf2' is not defined"
     ]
    }
   ],
   "source": [
    "def powerOf2(n):\n",
    "    if n < 1:\n",
    "        return 0\n",
    "    elif n == 1:\n",
    "        print(1)\n",
    "        return 1\n",
    "    else:\n",
    "        prev = powerOf2(int(n/2))\n",
    "        curr = prev*2\n",
    "        print(curr)\n",
    "        return curr\n",
    "    \n",
    "powersOf2(50)"
   ]
  },
  {
   "cell_type": "code",
   "execution_count": null,
   "id": "72bf92ac",
   "metadata": {},
   "outputs": [],
   "source": []
  }
 ],
 "metadata": {
  "kernelspec": {
   "display_name": "Python 3 (ipykernel)",
   "language": "python",
   "name": "python3"
  },
  "language_info": {
   "codemirror_mode": {
    "name": "ipython",
    "version": 3
   },
   "file_extension": ".py",
   "mimetype": "text/x-python",
   "name": "python",
   "nbconvert_exporter": "python",
   "pygments_lexer": "ipython3",
   "version": "3.9.12"
  }
 },
 "nbformat": 4,
 "nbformat_minor": 5
}
