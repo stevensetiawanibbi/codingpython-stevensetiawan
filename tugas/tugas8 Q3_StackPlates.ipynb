{
 "cells": [
  {
   "cell_type": "code",
   "execution_count": 1,
   "id": "329c2003",
   "metadata": {},
   "outputs": [],
   "source": [
    "# Stack of Plates"
   ]
  },
  {
   "cell_type": "code",
   "execution_count": 2,
   "id": "8fca0914",
   "metadata": {},
   "outputs": [
    {
     "name": "stdout",
     "output_type": "stream",
     "text": [
      "4\n"
     ]
    }
   ],
   "source": [
    "class PlateStack():\n",
    "    def __init__(self, capacity):\n",
    "        self.capacity = capacity\n",
    "        self.stacks = []\n",
    "    \n",
    "    def __str__(self):\n",
    "        return self.stacks\n",
    "    \n",
    "    def push(self, item):\n",
    "        if len(self.stacks) > 0 and (len(self.stacks[-1])) < self.capacity:\n",
    "            self.stacks[-1].append(item)\n",
    "        else:\n",
    "            self.stacks.append([item])\n",
    "    \n",
    "    def pop(self):\n",
    "        while len(self.stacks) and len(self.stacks[-1]) == 0:\n",
    "            self.stacks.pop()\n",
    "        if len(self.stacks) == 0:\n",
    "            return None\n",
    "        else:\n",
    "            return self.stacks[-1].pop()\n",
    "    \n",
    "    def pop_at(self, stackNumber):\n",
    "        if len(self.stacks[stackNumber]) > 0:\n",
    "            return self.stacks[stackNumber].pop()\n",
    "        else:\n",
    "            return None\n",
    "\n",
    "\n",
    "customStack= PlateStack(2)\n",
    "customStack.push(1)\n",
    "customStack.push(2)\n",
    "customStack.push(3)\n",
    "customStack.push(4)\n",
    "print(customStack.pop_at(1))"
   ]
  },
  {
   "cell_type": "code",
   "execution_count": null,
   "id": "fdbf2908",
   "metadata": {},
   "outputs": [],
   "source": []
  }
 ],
 "metadata": {
  "kernelspec": {
   "display_name": "Python 3 (ipykernel)",
   "language": "python",
   "name": "python3"
  },
  "language_info": {
   "codemirror_mode": {
    "name": "ipython",
    "version": 3
   },
   "file_extension": ".py",
   "mimetype": "text/x-python",
   "name": "python",
   "nbconvert_exporter": "python",
   "pygments_lexer": "ipython3",
   "version": "3.10.9"
  }
 },
 "nbformat": 4,
 "nbformat_minor": 5
}
