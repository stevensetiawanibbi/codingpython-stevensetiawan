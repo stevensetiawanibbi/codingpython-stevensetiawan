{
 "cells": [
  {
   "cell_type": "code",
   "execution_count": null,
   "id": "a4996d0b",
   "metadata": {},
   "outputs": [],
   "source": [
    "def swap(my_list, index1, index2):\n",
    "    my_list[index1],  my_list[index2] = my_list[index2],  my_list[index1]\n",
    "\n",
    "\n",
    "def pivot(my_list, pivot_index, end_index):\n",
    "    swap_index = pivot_index\n",
    "    for i in range(pivot_index+1, end_index+1):\n",
    "        if my_list[i] < my_list[pivot_index]:\n",
    "            swap_index += 1\n",
    "            swap(my_list, swap_index, i)\n",
    "    swap(my_list, pivot_index, swap_index)\n",
    "    return swap_index\n",
    "\n",
    "\n",
    "def quicksort_helper(my_list, left, right):\n",
    "    if left < right:\n",
    "        pivot_index = pivot(my_list, left, right)\n",
    "        quicksort_helper(my_list, left, pivot_index-1)\n",
    "        quicksort_helper(my_list, pivot_index+1, right)\n",
    "    return my_list\n",
    "\n",
    "def quicksort(my_list):\n",
    "    return quicksort_helper(my_list, 0, len(my_list)-1)\n",
    "\n",
    "my_list = [3,5,0,6,2,1,4]\n",
    "print(quicksort(my_list))"
   ]
  }
 ],
 "metadata": {
  "kernelspec": {
   "display_name": "Python 3 (ipykernel)",
   "language": "python",
   "name": "python3"
  },
  "language_info": {
   "codemirror_mode": {
    "name": "ipython",
    "version": 3
   },
   "file_extension": ".py",
   "mimetype": "text/x-python",
   "name": "python",
   "nbconvert_exporter": "python",
   "pygments_lexer": "ipython3",
   "version": "3.10.9"
  }
 },
 "nbformat": 4,
 "nbformat_minor": 5
}
