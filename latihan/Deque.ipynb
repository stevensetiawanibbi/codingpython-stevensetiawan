{
 "cells": [
  {
   "cell_type": "code",
   "execution_count": 1,
   "id": "21aa1683",
   "metadata": {},
   "outputs": [
    {
     "name": "stdout",
     "output_type": "stream",
     "text": [
      "deque([], maxlen=3)\n",
      "deque([2, 3, 4], maxlen=3)\n",
      "None\n",
      "deque([], maxlen=3)\n"
     ]
    }
   ],
   "source": [
    "from collections import deque\n",
    "\n",
    "customQueue = deque(maxlen=3)\n",
    "print(customQueue)\n",
    "\n",
    "customQueue.append(1)\n",
    "customQueue.append(2)\n",
    "customQueue.append(3)\n",
    "customQueue.append(4)\n",
    "print(customQueue)\n",
    "print(customQueue.clear())\n",
    "print(customQueue)"
   ]
  },
  {
   "cell_type": "code",
   "execution_count": null,
   "id": "3afd486c",
   "metadata": {},
   "outputs": [],
   "source": []
  }
 ],
 "metadata": {
  "kernelspec": {
   "display_name": "Python 3 (ipykernel)",
   "language": "python",
   "name": "python3"
  },
  "language_info": {
   "codemirror_mode": {
    "name": "ipython",
    "version": 3
   },
   "file_extension": ".py",
   "mimetype": "text/x-python",
   "name": "python",
   "nbconvert_exporter": "python",
   "pygments_lexer": "ipython3",
   "version": "3.10.9"
  }
 },
 "nbformat": 4,
 "nbformat_minor": 5
}
