{
 "cells": [
  {
   "cell_type": "code",
   "execution_count": 5,
   "id": "2a8bcda7",
   "metadata": {},
   "outputs": [],
   "source": [
    "class Graph:\n",
    "    def __init__(self, gdict=None):\n",
    "        if gdict is None:\n",
    "            gdict = {}\n",
    "        self.gdict = gdict\n",
    "    \n",
    "    def bfs(self, start, end):\n",
    "        queue = []\n",
    "        queue.append([start])\n",
    "        while queue:\n",
    "            path = queue.pop(0)\n",
    "            node = path[-1]\n",
    "            if node == end:\n",
    "                return path\n",
    "            for adjacent in self.gdict.get(node, []):\n",
    "                new_path = list(path)\n",
    "                new_path.append(adjacent)\n",
    "                queue.append(new_path)"
   ]
  },
  {
   "cell_type": "code",
   "execution_count": 6,
   "id": "1a85775c",
   "metadata": {},
   "outputs": [],
   "source": [
    "customDict = { \"a\" : [\"b\", \"c\"],\n",
    "               \"b\" : [\"d\", \"g\"],\n",
    "               \"c\" : [\"d\", \"e\"],\n",
    "               \"d\" : [\"f\"],\n",
    "               \"e\" : [\"f\"],\n",
    "               \"g\" : [\"f\"]\n",
    "            }"
   ]
  },
  {
   "cell_type": "code",
   "execution_count": 7,
   "id": "9e919e49",
   "metadata": {},
   "outputs": [],
   "source": [
    "g = Graph(customDict)"
   ]
  },
  {
   "cell_type": "code",
   "execution_count": 8,
   "id": "4cf18ee2",
   "metadata": {},
   "outputs": [
    {
     "name": "stdout",
     "output_type": "stream",
     "text": [
      "None\n"
     ]
    }
   ],
   "source": [
    "print(g.bfs(\"a\", \"z\"))"
   ]
  },
  {
   "cell_type": "code",
   "execution_count": null,
   "id": "529382c7",
   "metadata": {},
   "outputs": [],
   "source": []
  }
 ],
 "metadata": {
  "kernelspec": {
   "display_name": "Python 3 (ipykernel)",
   "language": "python",
   "name": "python3"
  },
  "language_info": {
   "codemirror_mode": {
    "name": "ipython",
    "version": 3
   },
   "file_extension": ".py",
   "mimetype": "text/x-python",
   "name": "python",
   "nbconvert_exporter": "python",
   "pygments_lexer": "ipython3",
   "version": "3.10.9"
  }
 },
 "nbformat": 4,
 "nbformat_minor": 5
}
