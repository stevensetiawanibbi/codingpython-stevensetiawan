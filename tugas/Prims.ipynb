{
 "cells": [
  {
   "cell_type": "code",
   "execution_count": 2,
   "id": "6c24e170",
   "metadata": {},
   "outputs": [],
   "source": [
    "# Prims Algorithm  in Python\n",
    "import sys"
   ]
  },
  {
   "cell_type": "code",
   "execution_count": 3,
   "id": "74b94e6f",
   "metadata": {},
   "outputs": [],
   "source": [
    "class Graph:\n",
    "    def __init__(self, vertexNum, edges, nodes):\n",
    "        self.edges = edges\n",
    "        self.nodes = nodes\n",
    "        self.vertexNum = vertexNum\n",
    "        self.MST = []\n",
    "    \n",
    "    def printSolution(self):\n",
    "        print(\"Edge : Weight\")\n",
    "        for s, d, w in self.MST:\n",
    "            print(\"%s -> %s: %s\" % (s, d, w))\n",
    "    \n",
    "    def primsAlgo(self):\n",
    "        visited = [0]*self.vertexNum\n",
    "        edgeNum=0\n",
    "        visited[0]=True\n",
    "        while edgeNum<self.vertexNum-1:\n",
    "            min = sys.maxsize\n",
    "            for i in range(self.vertexNum):\n",
    "                if visited[i]:\n",
    "                    for j in range(self.vertexNum):\n",
    "                        if ((not visited[j]) and self.edges[i][j]):\n",
    "                            if min > self.edges[i][j]:\n",
    "                                min = self.edges[i][j]\n",
    "                                s = i\n",
    "                                d = j\n",
    "            self.MST.append([self.nodes[s], self.nodes[d], self.edges[s][d]])\n",
    "            visited[d] = True\n",
    "            edgeNum += 1\n",
    "        self.printSolution()"
   ]
  },
  {
   "cell_type": "code",
   "execution_count": 4,
   "id": "a2454516",
   "metadata": {},
   "outputs": [],
   "source": [
    "edges = [[0, 10, 20, 0, 0],\n",
    "\t\t[10, 0, 30, 5, 0],\n",
    "\t\t[20, 30, 0, 15, 6],\n",
    "\t\t[0, 5, 15, 0, 8],\n",
    "\t\t[0, 0, 6, 8, 0]]"
   ]
  },
  {
   "cell_type": "code",
   "execution_count": 5,
   "id": "96a2a069",
   "metadata": {},
   "outputs": [],
   "source": [
    "nodes = [\"A\",\"B\",\"C\",\"D\",\"E\"]"
   ]
  },
  {
   "cell_type": "code",
   "execution_count": 6,
   "id": "4ffb1224",
   "metadata": {},
   "outputs": [],
   "source": [
    "g = Graph(5, edges, nodes)"
   ]
  },
  {
   "cell_type": "code",
   "execution_count": 7,
   "id": "6d344bed",
   "metadata": {},
   "outputs": [
    {
     "name": "stdout",
     "output_type": "stream",
     "text": [
      "Edge : Weight\n",
      "A -> B: 10\n",
      "B -> D: 5\n",
      "D -> E: 8\n",
      "E -> C: 6\n"
     ]
    }
   ],
   "source": [
    "g.primsAlgo()"
   ]
  },
  {
   "cell_type": "code",
   "execution_count": null,
   "id": "ea0164d6",
   "metadata": {},
   "outputs": [],
   "source": []
  }
 ],
 "metadata": {
  "kernelspec": {
   "display_name": "Python 3 (ipykernel)",
   "language": "python",
   "name": "python3"
  },
  "language_info": {
   "codemirror_mode": {
    "name": "ipython",
    "version": 3
   },
   "file_extension": ".py",
   "mimetype": "text/x-python",
   "name": "python",
   "nbconvert_exporter": "python",
   "pygments_lexer": "ipython3",
   "version": "3.10.9"
  }
 },
 "nbformat": 4,
 "nbformat_minor": 5
}
