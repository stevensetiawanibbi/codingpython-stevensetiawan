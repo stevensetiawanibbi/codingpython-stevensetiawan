{
 "cells": [
  {
   "cell_type": "code",
   "execution_count": 1,
   "id": "735688ac",
   "metadata": {},
   "outputs": [],
   "source": [
    "# Zero One Knapsack in Python"
   ]
  },
  {
   "cell_type": "code",
   "execution_count": 7,
   "id": "69d56cc4",
   "metadata": {},
   "outputs": [],
   "source": [
    "class Item:\n",
    "    def __init__(self, profit, weight):\n",
    "        self.profit = profit\n",
    "        self.weight = weight"
   ]
  },
  {
   "cell_type": "code",
   "execution_count": 8,
   "id": "d72099c9",
   "metadata": {},
   "outputs": [],
   "source": [
    "def zoKnapsack(items, capacity, currentIndex):\n",
    "    if capacity <=0 or currentIndex < 0 or currentIndex >= len(items):\n",
    "        return 0\n",
    "    elif items[currentIndex].weight <= capacity:\n",
    "        profit1 = items[currentIndex].profit + zoKnapsack(items, capacity-items[currentIndex].weight, currentIndex+1)\n",
    "        profit2 = zoKnapsack(items, capacity, currentIndex+1)\n",
    "        return max(profit1, profit2)\n",
    "    else:\n",
    "        return 0"
   ]
  },
  {
   "cell_type": "code",
   "execution_count": 9,
   "id": "cc532bde",
   "metadata": {},
   "outputs": [],
   "source": [
    "mango = Item(31, 3)\n",
    "apple = Item(26, 1)\n",
    "orange = Item(17, 2)\n",
    "banana = Item(72, 5)"
   ]
  },
  {
   "cell_type": "code",
   "execution_count": 10,
   "id": "7f9f4fb9",
   "metadata": {},
   "outputs": [],
   "source": [
    "items = [mango, apple, orange, banana]"
   ]
  },
  {
   "cell_type": "code",
   "execution_count": 11,
   "id": "732e2f53",
   "metadata": {},
   "outputs": [
    {
     "name": "stdout",
     "output_type": "stream",
     "text": [
      "98\n"
     ]
    }
   ],
   "source": [
    "print(zoKnapsack(items, 7, 0))"
   ]
  },
  {
   "cell_type": "code",
   "execution_count": null,
   "id": "bd2f0454",
   "metadata": {},
   "outputs": [],
   "source": []
  }
 ],
 "metadata": {
  "kernelspec": {
   "display_name": "Python 3 (ipykernel)",
   "language": "python",
   "name": "python3"
  },
  "language_info": {
   "codemirror_mode": {
    "name": "ipython",
    "version": 3
   },
   "file_extension": ".py",
   "mimetype": "text/x-python",
   "name": "python",
   "nbconvert_exporter": "python",
   "pygments_lexer": "ipython3",
   "version": "3.10.9"
  }
 },
 "nbformat": 4,
 "nbformat_minor": 5
}
