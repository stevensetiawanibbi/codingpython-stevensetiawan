{
 "cells": [
  {
   "cell_type": "code",
   "execution_count": 6,
   "id": "f5cd70ff",
   "metadata": {},
   "outputs": [],
   "source": [
    "# longest common subsequence in python"
   ]
  },
  {
   "cell_type": "code",
   "execution_count": 12,
   "id": "f95fc33b",
   "metadata": {},
   "outputs": [],
   "source": [
    "def findLCS(s1, s2, index1, index2):\n",
    "    if index1 == len(s1) or index2 == len(s2):\n",
    "        return 0\n",
    "    if s1[index1] == s2[index2]:\n",
    "        return 1 + findLCS(s1, s2, index1+1, index2+1)\n",
    "    else:\n",
    "        op1 = findLCS(s1,s2, index1, index2+1)\n",
    "        op2 = findLCS(s1,s2, index1+1, index2)\n",
    "        return max(op1, op2)"
   ]
  },
  {
   "cell_type": "code",
   "execution_count": 13,
   "id": "aff3fad1",
   "metadata": {},
   "outputs": [
    {
     "name": "stdout",
     "output_type": "stream",
     "text": [
      "4\n"
     ]
    }
   ],
   "source": [
    "print(findLCS(\"Elephant\", \"eretpat\", 0 ,0))"
   ]
  },
  {
   "cell_type": "code",
   "execution_count": null,
   "id": "6d730e94",
   "metadata": {},
   "outputs": [],
   "source": []
  }
 ],
 "metadata": {
  "kernelspec": {
   "display_name": "Python 3 (ipykernel)",
   "language": "python",
   "name": "python3"
  },
  "language_info": {
   "codemirror_mode": {
    "name": "ipython",
    "version": 3
   },
   "file_extension": ".py",
   "mimetype": "text/x-python",
   "name": "python",
   "nbconvert_exporter": "python",
   "pygments_lexer": "ipython3",
   "version": "3.10.9"
  }
 },
 "nbformat": 4,
 "nbformat_minor": 5
}
