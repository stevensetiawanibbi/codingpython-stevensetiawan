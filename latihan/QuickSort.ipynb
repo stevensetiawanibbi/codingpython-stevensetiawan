{
 "cells": [
  {
   "cell_type": "code",
   "execution_count": 1,
   "id": "64f68b8f",
   "metadata": {},
   "outputs": [],
   "source": [
    "def swap(my_list, index1, index2):\n",
    "    my_list[index1], my_list[index2] = my_list[index2], my_list[index2]"
   ]
  },
  {
   "cell_type": "code",
   "execution_count": 16,
   "id": "c4897b28",
   "metadata": {},
   "outputs": [],
   "source": [
    "def pivot(my_list, pivot_index, end_index):\n",
    "    swap_index = pivot_index\n",
    "    for i in range(pivot_index+1, end_index+1):\n",
    "        if my_list[i] < my_list[pivot_index]:\n",
    "            swap_index += 1\n",
    "            swap(my_list, swap_index, i)\n",
    "    swap(my_list, pivot_index, swap_index)\n",
    "    return swap_index"
   ]
  },
  {
   "cell_type": "code",
   "execution_count": 17,
   "id": "e11467e8",
   "metadata": {},
   "outputs": [],
   "source": [
    "def quicksort_helper(my_list, left, right):\n",
    "    if left < right:\n",
    "        pivot_index = pivot(my_list, left, right)\n",
    "        quicksort_helper(my_list, left, pivot_index-1)\n",
    "        quicksort_helper(my_list, pivot_index+1, right)\n",
    "    return my_list"
   ]
  },
  {
   "cell_type": "code",
   "execution_count": 18,
   "id": "9375a1f8",
   "metadata": {},
   "outputs": [],
   "source": [
    "def quicksort(my_list):\n",
    "    return quicksort_helper(my_list, 0, len(my_list)-1)"
   ]
  },
  {
   "cell_type": "code",
   "execution_count": 20,
   "id": "5f64828a",
   "metadata": {},
   "outputs": [
    {
     "name": "stdout",
     "output_type": "stream",
     "text": [
      "[0, 0, 2, 1, 1, 1, 4]\n"
     ]
    }
   ],
   "source": [
    "my_list = [3,5,0,6,2,1,4]\n",
    "print(quicksort(my_list))"
   ]
  },
  {
   "cell_type": "code",
   "execution_count": null,
   "id": "8f474e7b",
   "metadata": {},
   "outputs": [],
   "source": []
  }
 ],
 "metadata": {
  "kernelspec": {
   "display_name": "Python 3 (ipykernel)",
   "language": "python",
   "name": "python3"
  },
  "language_info": {
   "codemirror_mode": {
    "name": "ipython",
    "version": 3
   },
   "file_extension": ".py",
   "mimetype": "text/x-python",
   "name": "python",
   "nbconvert_exporter": "python",
   "pygments_lexer": "ipython3",
   "version": "3.9.12"
  }
 },
 "nbformat": 4,
 "nbformat_minor": 5
}
