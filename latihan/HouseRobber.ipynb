{
 "cells": [
  {
   "cell_type": "code",
   "execution_count": 3,
   "id": "7ecdb4cf",
   "metadata": {},
   "outputs": [],
   "source": [
    "def houseRobber(houses, currentIndex):\n",
    "    if currentIndex >= len(houses):\n",
    "        return 0\n",
    "    else:\n",
    "        stealFirstHouse = houses[currentIndex] + houseRobber(houses, currentIndex + 2)\n",
    "        skipFirstHouse = houseRobber(houses, currentIndex+1)\n",
    "        return max(stealFirstHouse, skipFirstHouse)"
   ]
  },
  {
   "cell_type": "code",
   "execution_count": 4,
   "id": "aa284c62",
   "metadata": {},
   "outputs": [],
   "source": [
    "houses = [6,7,1,30,8,2,4]"
   ]
  },
  {
   "cell_type": "code",
   "execution_count": 5,
   "id": "221c2b6b",
   "metadata": {},
   "outputs": [
    {
     "name": "stdout",
     "output_type": "stream",
     "text": [
      "41\n"
     ]
    }
   ],
   "source": [
    "print(houseRobber(houses, 0))"
   ]
  },
  {
   "cell_type": "code",
   "execution_count": null,
   "id": "4e946b92",
   "metadata": {},
   "outputs": [],
   "source": []
  }
 ],
 "metadata": {
  "kernelspec": {
   "display_name": "Python 3 (ipykernel)",
   "language": "python",
   "name": "python3"
  },
  "language_info": {
   "codemirror_mode": {
    "name": "ipython",
    "version": 3
   },
   "file_extension": ".py",
   "mimetype": "text/x-python",
   "name": "python",
   "nbconvert_exporter": "python",
   "pygments_lexer": "ipython3",
   "version": "3.9.12"
  }
 },
 "nbformat": 4,
 "nbformat_minor": 5
}
