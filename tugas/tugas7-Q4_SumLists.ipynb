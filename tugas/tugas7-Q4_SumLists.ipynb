{
 "cells": [
  {
   "cell_type": "code",
   "execution_count": null,
   "id": "31cd006d",
   "metadata": {},
   "outputs": [],
   "source": [
    "# Question 4 - Sum Lists"
   ]
  },
  {
   "cell_type": "code",
   "execution_count": 1,
   "id": "a95a209a",
   "metadata": {},
   "outputs": [
    {
     "ename": "ModuleNotFoundError",
     "evalue": "No module named 'LinkedList'",
     "output_type": "error",
     "traceback": [
      "\u001b[1;31m---------------------------------------------------------------------------\u001b[0m",
      "\u001b[1;31mModuleNotFoundError\u001b[0m                       Traceback (most recent call last)",
      "Input \u001b[1;32mIn [1]\u001b[0m, in \u001b[0;36m<cell line: 1>\u001b[1;34m()\u001b[0m\n\u001b[1;32m----> 1\u001b[0m \u001b[38;5;28;01mfrom\u001b[39;00m \u001b[38;5;21;01mLinkedList\u001b[39;00m \u001b[38;5;28;01mimport\u001b[39;00m LinkedList\n\u001b[0;32m      3\u001b[0m \u001b[38;5;28;01mdef\u001b[39;00m \u001b[38;5;21msumList\u001b[39m(llA, llB):\n\u001b[0;32m      4\u001b[0m     n1 \u001b[38;5;241m=\u001b[39m llA\u001b[38;5;241m.\u001b[39mhead\n",
      "\u001b[1;31mModuleNotFoundError\u001b[0m: No module named 'LinkedList'"
     ]
    }
   ],
   "source": [
    "from LinkedList import LinkedList\n",
    "\n",
    "def sumList(llA, llB):\n",
    "    n1 = llA.head\n",
    "    n2 = llB.head\n",
    "    carry = 0\n",
    "    ll = LinkedList()\n",
    "\n",
    "    while n1 or n2:\n",
    "        result = carry\n",
    "        if n1:\n",
    "            result += n1.value\n",
    "            n1 = n1.next\n",
    "        if n2:\n",
    "            result += n2.value\n",
    "            n2 = n2.next\n",
    "        ll.add(int(result % 10))\n",
    "        carry = result / 10\n",
    "    \n",
    "    return ll\n",
    "\n",
    "llA = LinkedList()\n",
    "llA.add(7)\n",
    "llA.add(1)\n",
    "llA.add(6)\n",
    "\n",
    "\n",
    "llB = LinkedList()\n",
    "llB.add(5)\n",
    "llB.add(9)\n",
    "llB.add(2)\n",
    "print(llA)\n",
    "print(llB)\n",
    "print(sumList(llA, llB))"
   ]
  },
  {
   "cell_type": "code",
   "execution_count": null,
   "id": "a9924625",
   "metadata": {},
   "outputs": [],
   "source": []
  }
 ],
 "metadata": {
  "kernelspec": {
   "display_name": "Python 3 (ipykernel)",
   "language": "python",
   "name": "python3"
  },
  "language_info": {
   "codemirror_mode": {
    "name": "ipython",
    "version": 3
   },
   "file_extension": ".py",
   "mimetype": "text/x-python",
   "name": "python",
   "nbconvert_exporter": "python",
   "pygments_lexer": "ipython3",
   "version": "3.9.12"
  }
 },
 "nbformat": 4,
 "nbformat_minor": 5
}
