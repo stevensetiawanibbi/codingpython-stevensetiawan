{
 "cells": [
  {
   "cell_type": "code",
   "execution_count": 6,
   "id": "fe4df3a7",
   "metadata": {},
   "outputs": [],
   "source": [
    "class Graph:\n",
    "    def __init__(self, vertices):\n",
    "        self.V = vertices   \n",
    "        self.graph = []     \n",
    "        self.nodes = []\n",
    "\n",
    "    def add_edge(self, s, d, w):\n",
    "        self.graph.append([s, d, w])\n",
    "    \n",
    "    def addNode(self,value):\n",
    "        self.nodes.append(value)\n",
    "\n",
    "    def print_solution(self, dist):\n",
    "        print(\"Vertex Distance from Source\")\n",
    "        for key, value in dist.items():\n",
    "            print('  ' + key, ' :    ', value)\n",
    "    \n",
    "    def bellmanFord(self, src):\n",
    "        dist = {i : float(\"Inf\") for i in self.nodes}\n",
    "        dist[src] = 0\n",
    "\n",
    "        for _ in range(self.V-1):\n",
    "            for s, d, w in self.graph:\n",
    "                if dist[s] != float(\"Inf\") and dist[s] + w < dist[d]:\n",
    "                    dist[d] = dist[s] + w\n",
    "        \n",
    "        for s, d, w in self.graph:\n",
    "            if dist[s] != float(\"Inf\") and dist[s] + w < dist[d]:\n",
    "                print(\"Graph contains negative cycle\")\n",
    "                return\n",
    "        \n",
    "\n",
    "        self.print_solution(dist)"
   ]
  },
  {
   "cell_type": "code",
   "execution_count": 7,
   "id": "d581fca5",
   "metadata": {},
   "outputs": [],
   "source": [
    "g = Graph(5)"
   ]
  },
  {
   "cell_type": "code",
   "execution_count": 8,
   "id": "5ed25239",
   "metadata": {},
   "outputs": [],
   "source": [
    "g.addNode(\"A\")\n",
    "g.addNode(\"B\")\n",
    "g.addNode(\"C\")\n",
    "g.addNode(\"D\")\n",
    "g.addNode(\"E\")\n",
    "g.add_edge(\"A\", \"C\", 6)\n",
    "g.add_edge(\"A\", \"D\", 6)\n",
    "g.add_edge(\"B\", \"A\", 3)\n",
    "g.add_edge(\"C\", \"D\", 1)\n",
    "g.add_edge(\"D\", \"C\", 2)\n",
    "g.add_edge(\"D\", \"B\", 1)\n",
    "g.add_edge(\"E\", \"B\", 4)\n",
    "g.add_edge(\"E\", \"D\", 2)"
   ]
  },
  {
   "cell_type": "code",
   "execution_count": 9,
   "id": "75c52da5",
   "metadata": {},
   "outputs": [
    {
     "name": "stdout",
     "output_type": "stream",
     "text": [
      "Vertex Distance from Source\n",
      "  A  :     6\n",
      "  B  :     3\n",
      "  C  :     4\n",
      "  D  :     2\n",
      "  E  :     0\n"
     ]
    }
   ],
   "source": [
    "g.bellmanFord(\"E\")"
   ]
  },
  {
   "cell_type": "code",
   "execution_count": null,
   "id": "b17654f6",
   "metadata": {},
   "outputs": [],
   "source": []
  }
 ],
 "metadata": {
  "kernelspec": {
   "display_name": "Python 3 (ipykernel)",
   "language": "python",
   "name": "python3"
  },
  "language_info": {
   "codemirror_mode": {
    "name": "ipython",
    "version": 3
   },
   "file_extension": ".py",
   "mimetype": "text/x-python",
   "name": "python",
   "nbconvert_exporter": "python",
   "pygments_lexer": "ipython3",
   "version": "3.10.9"
  }
 },
 "nbformat": 4,
 "nbformat_minor": 5
}
