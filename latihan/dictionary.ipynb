{
 "cells": [
  {
   "cell_type": "code",
   "execution_count": 5,
   "id": "6d081fe3",
   "metadata": {},
   "outputs": [
    {
     "name": "stdout",
     "output_type": "stream",
     "text": [
      "{'One': '1', 'Two': '2'}\n"
     ]
    }
   ],
   "source": [
    "myDict = dict(One = \"1\", Two = \"2\")\n",
    "print(myDict)"
   ]
  },
  {
   "cell_type": "code",
   "execution_count": 6,
   "id": "6927a732",
   "metadata": {},
   "outputs": [
    {
     "name": "stdout",
     "output_type": "stream",
     "text": [
      "{'One': '1', 'Two': '2'}\n"
     ]
    }
   ],
   "source": [
    "secondDict = {\"One\":\"1\", \"Two\":\"2\"}\n",
    "print(secondDict)"
   ]
  },
  {
   "cell_type": "code",
   "execution_count": 8,
   "id": "7bf26eee",
   "metadata": {},
   "outputs": [
    {
     "name": "stdout",
     "output_type": "stream",
     "text": [
      "{'one': 'uno', 'two': 'dos', 'three': 'tres'}\n"
     ]
    }
   ],
   "source": [
    "engToSp = {\"one\":\"uno\", \"two\":\"dos\", \"three\":\"tres\"}\n",
    "print(engToSp)"
   ]
  },
  {
   "cell_type": "code",
   "execution_count": 9,
   "id": "41128e4f",
   "metadata": {},
   "outputs": [
    {
     "name": "stdout",
     "output_type": "stream",
     "text": [
      "uno\n"
     ]
    }
   ],
   "source": [
    "print(engToSp['one'])"
   ]
  },
  {
   "cell_type": "code",
   "execution_count": 13,
   "id": "3b7dc75c",
   "metadata": {},
   "outputs": [
    {
     "name": "stdout",
     "output_type": "stream",
     "text": [
      "dua\n"
     ]
    }
   ],
   "source": [
    "print(engToSp['two'])"
   ]
  },
  {
   "cell_type": "code",
   "execution_count": 11,
   "id": "02d5f97d",
   "metadata": {},
   "outputs": [
    {
     "name": "stdout",
     "output_type": "stream",
     "text": [
      "tres\n"
     ]
    }
   ],
   "source": [
    "print(engToSp['three'])"
   ]
  },
  {
   "cell_type": "code",
   "execution_count": null,
   "id": "be5ea74a",
   "metadata": {},
   "outputs": [],
   "source": [
    "print(engToSp['one'])"
   ]
  },
  {
   "cell_type": "code",
   "execution_count": 12,
   "id": "12ee64b3",
   "metadata": {},
   "outputs": [],
   "source": [
    "engToSp['two']='dua'"
   ]
  },
  {
   "cell_type": "code",
   "execution_count": 14,
   "id": "c6bb4091",
   "metadata": {},
   "outputs": [
    {
     "name": "stdout",
     "output_type": "stream",
     "text": [
      "{'one': 'uno', 'two': 'dua', 'three': 'tres'}\n"
     ]
    }
   ],
   "source": [
    "print(engToSp)"
   ]
  },
  {
   "cell_type": "code",
   "execution_count": 15,
   "id": "4eb6c912",
   "metadata": {},
   "outputs": [],
   "source": [
    "engToSp['four']='quatro'"
   ]
  },
  {
   "cell_type": "code",
   "execution_count": 16,
   "id": "6bbbc7d8",
   "metadata": {},
   "outputs": [
    {
     "name": "stdout",
     "output_type": "stream",
     "text": [
      "{'one': 'uno', 'two': 'dua', 'three': 'tres', 'four': 'quatro'}\n"
     ]
    }
   ],
   "source": [
    "print(engToSp)"
   ]
  },
  {
   "cell_type": "code",
   "execution_count": 17,
   "id": "ade9ea84",
   "metadata": {},
   "outputs": [
    {
     "data": {
      "text/plain": [
       "'dua'"
      ]
     },
     "execution_count": 17,
     "metadata": {},
     "output_type": "execute_result"
    }
   ],
   "source": [
    "engToSp.pop('two')"
   ]
  },
  {
   "cell_type": "code",
   "execution_count": 18,
   "id": "3f89c53e",
   "metadata": {},
   "outputs": [
    {
     "name": "stdout",
     "output_type": "stream",
     "text": [
      "{'one': 'uno', 'three': 'tres', 'four': 'quatro'}\n"
     ]
    }
   ],
   "source": [
    "print(engToSp)"
   ]
  },
  {
   "cell_type": "code",
   "execution_count": 19,
   "id": "a3adc5a6",
   "metadata": {},
   "outputs": [
    {
     "data": {
      "text/plain": [
       "('four', 'quatro')"
      ]
     },
     "execution_count": 19,
     "metadata": {},
     "output_type": "execute_result"
    }
   ],
   "source": [
    "engToSp.popitem()"
   ]
  },
  {
   "cell_type": "code",
   "execution_count": 20,
   "id": "93840bc9",
   "metadata": {},
   "outputs": [
    {
     "name": "stdout",
     "output_type": "stream",
     "text": [
      "{'one': 'uno', 'three': 'tres'}\n"
     ]
    }
   ],
   "source": [
    "print(engToSp)"
   ]
  },
  {
   "cell_type": "code",
   "execution_count": 22,
   "id": "9a55a612",
   "metadata": {},
   "outputs": [],
   "source": [
    "engToSp.clear()"
   ]
  },
  {
   "cell_type": "code",
   "execution_count": 23,
   "id": "e09b4616",
   "metadata": {},
   "outputs": [
    {
     "name": "stdout",
     "output_type": "stream",
     "text": [
      "{}\n"
     ]
    }
   ],
   "source": [
    "print(engToSp)"
   ]
  },
  {
   "cell_type": "code",
   "execution_count": 24,
   "id": "9e5719da",
   "metadata": {},
   "outputs": [
    {
     "name": "stdout",
     "output_type": "stream",
     "text": [
      "{'one': 'uno', 'two': 'dos', 'three': 'tres'}\n"
     ]
    }
   ],
   "source": [
    "engToSp = {\"one\":\"uno\", \"two\":\"dos\", \"three\":\"tres\"}\n",
    "print(engToSp)"
   ]
  },
  {
   "cell_type": "code",
   "execution_count": 25,
   "id": "06720f9d",
   "metadata": {},
   "outputs": [],
   "source": [
    "del engToSp['one']"
   ]
  },
  {
   "cell_type": "code",
   "execution_count": 26,
   "id": "5f4367a2",
   "metadata": {},
   "outputs": [
    {
     "name": "stdout",
     "output_type": "stream",
     "text": [
      "{'two': 'dos', 'three': 'tres'}\n"
     ]
    }
   ],
   "source": [
    "print(engToSp)"
   ]
  },
  {
   "cell_type": "code",
   "execution_count": 27,
   "id": "bc798cbc",
   "metadata": {},
   "outputs": [],
   "source": [
    "del engToSp"
   ]
  },
  {
   "cell_type": "code",
   "execution_count": 28,
   "id": "b0dda342",
   "metadata": {},
   "outputs": [
    {
     "ename": "NameError",
     "evalue": "name 'engToSp' is not defined",
     "output_type": "error",
     "traceback": [
      "\u001b[1;31m---------------------------------------------------------------------------\u001b[0m",
      "\u001b[1;31mNameError\u001b[0m                                 Traceback (most recent call last)",
      "Input \u001b[1;32mIn [28]\u001b[0m, in \u001b[0;36m<cell line: 1>\u001b[1;34m()\u001b[0m\n\u001b[1;32m----> 1\u001b[0m \u001b[38;5;28mprint\u001b[39m(\u001b[43mengToSp\u001b[49m)\n",
      "\u001b[1;31mNameError\u001b[0m: name 'engToSp' is not defined"
     ]
    }
   ],
   "source": [
    "print(engToSp)"
   ]
  },
  {
   "cell_type": "code",
   "execution_count": null,
   "id": "5b037552",
   "metadata": {},
   "outputs": [],
   "source": []
  }
 ],
 "metadata": {
  "kernelspec": {
   "display_name": "Python 3 (ipykernel)",
   "language": "python",
   "name": "python3"
  },
  "language_info": {
   "codemirror_mode": {
    "name": "ipython",
    "version": 3
   },
   "file_extension": ".py",
   "mimetype": "text/x-python",
   "name": "python",
   "nbconvert_exporter": "python",
   "pygments_lexer": "ipython3",
   "version": "3.9.12"
  }
 },
 "nbformat": 4,
 "nbformat_minor": 5
}
