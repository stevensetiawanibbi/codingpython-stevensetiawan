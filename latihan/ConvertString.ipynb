{
 "cells": [
  {
   "cell_type": "code",
   "execution_count": 3,
   "id": "a8ce5656",
   "metadata": {},
   "outputs": [],
   "source": [
    "def findMinOperation(s1, s2, index1, index2):\n",
    "    if index1 == len(s1):\n",
    "        return len(s2)-index2\n",
    "    if index2 == len(s2):\n",
    "        return len(s1)-index1\n",
    "    if s1[index1] == s2[index2]:\n",
    "        return findMinOperation(s1, s2, index1+1, index2+1)\n",
    "    else:\n",
    "        deleteOp = 1 + findMinOperation(s1, s2, index1, index2+1)\n",
    "        insertOp = 1 + findMinOperation(s1, s2, index1+1, index2)\n",
    "        replaceOp = 1 + findMinOperation(s1, s2, index1+1, index2+1)\n",
    "        return min (deleteOp, insertOp, replaceOp)"
   ]
  },
  {
   "cell_type": "code",
   "execution_count": 4,
   "id": "c4b19cf2",
   "metadata": {},
   "outputs": [
    {
     "name": "stdout",
     "output_type": "stream",
     "text": [
      "4\n"
     ]
    }
   ],
   "source": [
    "print(findMinOperation(\"table\", \"tbrltt\", 0, 0))"
   ]
  },
  {
   "cell_type": "code",
   "execution_count": null,
   "id": "96d23934",
   "metadata": {},
   "outputs": [],
   "source": []
  }
 ],
 "metadata": {
  "kernelspec": {
   "display_name": "Python 3 (ipykernel)",
   "language": "python",
   "name": "python3"
  },
  "language_info": {
   "codemirror_mode": {
    "name": "ipython",
    "version": 3
   },
   "file_extension": ".py",
   "mimetype": "text/x-python",
   "name": "python",
   "nbconvert_exporter": "python",
   "pygments_lexer": "ipython3",
   "version": "3.9.12"
  }
 },
 "nbformat": 4,
 "nbformat_minor": 5
}
