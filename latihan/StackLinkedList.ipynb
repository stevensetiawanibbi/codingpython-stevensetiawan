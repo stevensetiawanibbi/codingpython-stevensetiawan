{
 "cells": [
  {
   "cell_type": "code",
   "execution_count": 1,
   "id": "4aef43ab",
   "metadata": {},
   "outputs": [
    {
     "name": "stdout",
     "output_type": "stream",
     "text": [
      "3\n"
     ]
    }
   ],
   "source": [
    "class Node:\n",
    "    def __init__(self, value = None):\n",
    "        self.value = value\n",
    "        self.next = None\n",
    "\n",
    "class LinkedList:\n",
    "    def __init__(self):\n",
    "        self.head = None\n",
    "    \n",
    "    def __iter__(self):\n",
    "        curNode = self.head\n",
    "        while curNode:\n",
    "            yield curNode\n",
    "            curNode = curNode.next\n",
    "\n",
    "class Stack:\n",
    "    def __init__(self):\n",
    "        self.LinkedList = LinkedList()\n",
    "    \n",
    "    def __str__(self):\n",
    "        values = [str(x.value) for x in self.LinkedList]\n",
    "        return '\\n'.join(values)\n",
    "    \n",
    "    def isEmpty(self):\n",
    "        if self.LinkedList.head == None:\n",
    "            return True\n",
    "        else:\n",
    "            return False\n",
    "\n",
    "    def push(self, value):\n",
    "        node = Node(value)\n",
    "        node.next = self.LinkedList.head\n",
    "        self.LinkedList.head = node\n",
    "    \n",
    "    def pop(self):\n",
    "        if self.isEmpty():\n",
    "            return \"There is not any element in the stack\"\n",
    "        else:\n",
    "            nodeValue = self.LinkedList.head.value\n",
    "            self.LinkedList.head = self.LinkedList.head.next\n",
    "            return nodeValue\n",
    "    \n",
    "    def peek(self):\n",
    "        if self.isEmpty():\n",
    "            return \"There is not any element in the stack\"\n",
    "        else:\n",
    "            nodeValue = self.LinkedList.head.value\n",
    "            return nodeValue\n",
    "    \n",
    "    def delete(self):\n",
    "        self.LinkedList.head = None\n",
    "    \n",
    "\n",
    "\n",
    "\n",
    "customStack = Stack()\n",
    "customStack.push(1)\n",
    "customStack.push(2)\n",
    "customStack.push(3)\n",
    "\n",
    "print(customStack.peek())"
   ]
  },
  {
   "cell_type": "code",
   "execution_count": null,
   "id": "9087a62a",
   "metadata": {},
   "outputs": [],
   "source": []
  }
 ],
 "metadata": {
  "kernelspec": {
   "display_name": "Python 3 (ipykernel)",
   "language": "python",
   "name": "python3"
  },
  "language_info": {
   "codemirror_mode": {
    "name": "ipython",
    "version": 3
   },
   "file_extension": ".py",
   "mimetype": "text/x-python",
   "name": "python",
   "nbconvert_exporter": "python",
   "pygments_lexer": "ipython3",
   "version": "3.10.9"
  }
 },
 "nbformat": 4,
 "nbformat_minor": 5
}
