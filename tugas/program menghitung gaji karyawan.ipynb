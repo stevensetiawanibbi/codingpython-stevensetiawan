{
 "cells": [
  {
   "cell_type": "code",
   "execution_count": null,
   "id": "041b0ee6",
   "metadata": {},
   "outputs": [
    {
     "name": "stdout",
     "output_type": "stream",
     "text": [
      "Program Menghitung Gaji Karyawan\n",
      "\n"
     ]
    }
   ],
   "source": [
    "def hitung_gaji_pokok(golongan):\n",
    "    if golongan == \"A\":\n",
    "        gaji_pokok = 10000000\n",
    "    elif golongan == \"B\":\n",
    "        gaji_pokok = 7000000\n",
    "    elif golongan == \"C\":\n",
    "        gaji_pokok = 5000000\n",
    "    elif golongan == \"D\":\n",
    "        gaji_pokok = 3000000\n",
    "    else:\n",
    "        gaji_pokok = 0\n",
    "\n",
    "    return gaji_pokok\n",
    "\n",
    "def hitung_gaji_total(golongan, jam_kerja):\n",
    "    gaji_pokok = hitung_gaji_pokok(golongan)\n",
    "\n",
    "    if jam_kerja <= 40:\n",
    "        gaji_total = gaji_pokok\n",
    "    else:\n",
    "        gaji_lembur = (jam_kerja - 40) * (gaji_pokok / 40) * 1.5\n",
    "        gaji_total = gaji_pokok + gaji_lembur\n",
    "\n",
    "    return gaji_total\n",
    "\n",
    "# Fungsi utama\n",
    "def main():\n",
    "    print(\"Program Menghitung Gaji Karyawan\\n\")\n",
    "\n",
    "    while True:\n",
    "        golongan = input(\"Masukkan golongan (A/B/C/D): \")\n",
    "        jam_kerja = int(input(\"Masukkan jumlah jam kerja per bulan: \"))\n",
    "\n",
    "        gaji_total = hitung_gaji_total(golongan, jam_kerja)\n",
    "        print(\"Gaji Pokok: Rp.\", hitung_gaji_pokok(golongan))\n",
    "        print(\"Gaji Total: Rp.\", gaji_total)\n",
    "\n",
    "        ulangi = input(\"Apakah ingin menghitung gaji karyawan lagi? (y/n): \")\n",
    "        if ulangi.lower() != \"y\":\n",
    "            break\n",
    "\n",
    "if __name__ == \"__main__\":\n",
    "    main()"
   ]
  },
  {
   "cell_type": "code",
   "execution_count": null,
   "id": "db2e0011",
   "metadata": {},
   "outputs": [],
   "source": []
  },
  {
   "cell_type": "code",
   "execution_count": null,
   "id": "7b2fa012",
   "metadata": {},
   "outputs": [],
   "source": []
  }
 ],
 "metadata": {
  "kernelspec": {
   "display_name": "Python 3 (ipykernel)",
   "language": "python",
   "name": "python3"
  },
  "language_info": {
   "codemirror_mode": {
    "name": "ipython",
    "version": 3
   },
   "file_extension": ".py",
   "mimetype": "text/x-python",
   "name": "python",
   "nbconvert_exporter": "python",
   "pygments_lexer": "ipython3",
   "version": "3.10.9"
  }
 },
 "nbformat": 4,
 "nbformat_minor": 5
}
